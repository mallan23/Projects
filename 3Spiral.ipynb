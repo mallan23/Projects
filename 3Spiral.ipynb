{
 "cells": [
  {
   "cell_type": "code",
   "execution_count": 1,
   "id": "5e0de127",
   "metadata": {},
   "outputs": [
    {
     "data": {
      "image/png": "[encoded data removed]",
      "text/plain": [
       "<Figure size 432x288 with 1 Axes>"
      ]
     },
     "metadata": {
      "needs_background": "light"
     },
     "output_type": "display_data"
    }
   ],
   "source": [
    "# Create the dataset of three spirals by calculating the angle of revolution and using the corresponding formula\n",
    "\n",
    "import numpy as np\n",
    "from numpy import pi\n",
    "import matplotlib.pyplot as plt\n",
    "\n",
    "N = 300 # number of data points per spiral \n",
    "theta = np.sqrt(np.random.rand(N))*2*pi #generate array of N length for theta \n",
    "\n",
    "#generate arrays for the spirals \n",
    "r_a = 4*theta + pi \n",
    "data_a = np.array([np.cos(theta)*r_a, np.sin(theta)*r_a]).T\n",
    "x_a = data_a + np.random.randn(N,2)\n",
    "\n",
    "r_b = -5*theta - pi \n",
    "data_b = np.array([np.cos(theta)*r_b, np.sin(theta)*r_b]).T\n",
    "x_b = data_b + np.random.randn(N,2)\n",
    "\n",
    "r_c = 5*theta + 3*pi\n",
    "data_c = np.array([np.cos(theta)*r_c, np.sin(theta)*r_c]).T\n",
    "x_c = data_c + np.random.randn(N,2)\n",
    "\n",
    "#appends each spiral with its corresponding output number\n",
    "res_a = np.append(x_a, np.zeros((N,1)), axis=1)\n",
    "res_b = np.append(x_b, np.ones((N,1)), axis=1)\n",
    "res_c = np.append(x_c, np.full((N,1), 2.0), axis=1)\n",
    "\n",
    "#creates single array with all values and outputs\n",
    "res = np.append(res_a, res_b, axis=0)\n",
    "res2 = np.append(res, res_c, axis=0)\n",
    "np.random.shuffle(res2)\n",
    "\n",
    "#save to csv file\n",
    "np.savetxt(\"result.csv\", res2, delimiter=\",\", comments=\"\", fmt='%.5f')\n",
    "\n",
    "#plots the spirals\n",
    "plt.scatter(x_a[:,0],x_a[:,1])\n",
    "plt.scatter(x_b[:,0],x_b[:,1])\n",
    "plt.scatter(x_c[:,0],x_c[:,1])\n",
    "plt.show()"
   ]
  },
  {
   "cell_type": "code",
   "execution_count": 2,
   "id": "e47492a1",
   "metadata": {},
   "outputs": [],
   "source": [
    "# Load dataset and split it into training and test split\n",
    "\n",
    "import pandas as pd \n",
    "import torch \n",
    "from sklearn.model_selection import train_test_split\n",
    "\n",
    "#load the data set \n",
    "data = pd.read_csv('result.csv', header=None, names=['x','y','output'])\n",
    "\n",
    "# Split into numpy arrays with features and labels\n",
    "input = data[['x', 'y']].to_numpy()\n",
    "output = data[['output']].to_numpy().flatten()\n",
    "\n",
    "# Split into train and test\n",
    "in_train, in_test, out_train, out_test = train_test_split(input, output, test_size=0.2, random_state=15)\n",
    "\n",
    "# Convert to torch tensors\n",
    "in_train = torch.from_numpy(in_train).type(torch.float32)\n",
    "in_test = torch.from_numpy(in_test).type(torch.float32)\n",
    "out_train = torch.from_numpy(out_train).type(torch.LongTensor)\n",
    "out_test = torch.from_numpy(out_test).type(torch.LongTensor)"
   ]
  },
  {
   "cell_type": "code",
   "execution_count": 3,
   "id": "a645dc01",
   "metadata": {},
   "outputs": [],
   "source": [
    "# Defining the model with one hidden layer, with softmax on the hidden layer and on the ouptut \n",
    "\n",
    "class Model(torch.nn.Module):\n",
    "    def __init__(self):\n",
    "        super().__init__()\n",
    "        self.fc1 = torch.nn.Linear(2, 32, bias=True) # hidden layer\n",
    "        self.fc2 = torch.nn.Linear(32, 3, bias=True) # output layer\n",
    "        self.softmax = torch.nn.Softmax(dim=1) \n",
    "    def forward(self, x):\n",
    "        x = torch.nn.Softmax(dim=1)(self.fc1(x))\n",
    "        x = self.fc2(x)\n",
    "        x = self.softmax(x)\n",
    "        return x"
   ]
  },
  {
   "cell_type": "code",
   "execution_count": 4,
   "id": "c84b8fa3",
   "metadata": {},
   "outputs": [
    {
     "name": "stdout",
     "output_type": "stream",
     "text": [
      "Model(\n",
      "  (fc1): Linear(in_features=2, out_features=32, bias=True)\n",
      "  (fc2): Linear(in_features=32, out_features=3, bias=True)\n",
      "  (softmax): Softmax(dim=1)\n",
      ")\n"
     ]
    }
   ],
   "source": [
    "# Instantiate model and adam optimiser, using cross entropy loss function\n",
    "\n",
    "model = Model()\n",
    "optimiser = torch.optim.Adam(model.parameters(), lr=0.01)\n",
    "loss_fn = torch.nn.CrossEntropyLoss()\n",
    "print(model)"
   ]
  },
  {
   "cell_type": "code",
   "execution_count": 5,
   "id": "47cc9545",
   "metadata": {},
   "outputs": [
    {
     "name": "stdout",
     "output_type": "stream",
     "text": [
      "Epoch 0:\tTrain loss=1.1035  \tTrain acc=29.31  \tTest loss=1.1011  \tTest acc=28.33\n",
      "Epoch 100:\tTrain loss=0.9056  \tTrain acc=76.94  \tTest loss=0.9030  \tTest acc=77.78\n",
      "Epoch 200:\tTrain loss=0.7706  \tTrain acc=89.17  \tTest loss=0.7726  \tTest acc=88.89\n",
      "Epoch 300:\tTrain loss=0.6763  \tTrain acc=99.03  \tTest loss=0.6765  \tTest acc=97.78\n",
      "Epoch 400:\tTrain loss=0.6116  \tTrain acc=99.17  \tTest loss=0.6202  \tTest acc=98.33\n",
      "Epoch 500:\tTrain loss=0.5846  \tTrain acc=99.44  \tTest loss=0.5906  \tTest acc=98.33\n",
      "Epoch 600:\tTrain loss=0.5730  \tTrain acc=99.58  \tTest loss=0.5796  \tTest acc=98.33\n",
      "Epoch 700:\tTrain loss=0.5671  \tTrain acc=99.58  \tTest loss=0.5740  \tTest acc=98.33\n",
      "Epoch 800:\tTrain loss=0.5635  \tTrain acc=99.72  \tTest loss=0.5706  \tTest acc=98.33\n",
      "Epoch 900:\tTrain loss=0.5611  \tTrain acc=99.72  \tTest loss=0.5684  \tTest acc=98.33\n",
      "Epoch 1000:\tTrain loss=0.5595  \tTrain acc=99.72  \tTest loss=0.5668  \tTest acc=98.33\n"
     ]
    }
   ],
   "source": [
    "# Conduct training and testing with 1000 epochs, print result after every 100 epochs \n",
    "\n",
    "train_losses = []\n",
    "test_losses = []\n",
    "train_accuracies = []\n",
    "test_accuracies = []\n",
    "\n",
    "for epoch in range(1001):\n",
    "    # Zero gradients\n",
    "    optimiser.zero_grad()\n",
    "    # Forward pass\n",
    "    out_pred = model(in_train)\n",
    "    # Calculate loss\n",
    "    loss = loss_fn(out_pred, out_train)   \n",
    "    # Backward pass\n",
    "    loss.backward()\n",
    "    # Update weights\n",
    "    optimiser.step()\n",
    "    # Calculate metrics\n",
    "    train_acc = torch.sum(torch.argmax(out_pred, dim=1) == out_train) / out_train.shape[0]\n",
    "    with torch.no_grad():\n",
    "        out_pred_test = model(in_test)\n",
    "        test_loss = loss_fn(out_pred_test, out_test)\n",
    "        test_acc = torch.sum(torch.argmax(out_pred_test, dim=1) == out_test) / out_test.shape[0]\n",
    "    # Log metrics\n",
    "    train_losses.append(loss.item())\n",
    "    train_accuracies.append(train_acc)\n",
    "    test_losses.append(test_loss.item())\n",
    "    test_accuracies.append(test_acc)\n",
    "    if epoch % 100 == 0:\n",
    "        # Print to console\n",
    "        print(\"Epoch {}:\\tTrain loss={:.4f}  \\tTrain acc={:.2f}  \\tTest loss={:.4f}  \\tTest acc={:.2f}\".format(\n",
    "            epoch, loss.item(), train_acc*100, test_loss.item(), test_acc*100))"
   ]
  },
  {
   "cell_type": "code",
   "execution_count": 6,
   "id": "fef4e598",
   "metadata": {},
   "outputs": [
    {
     "data": {
      "text/plain": [
       "<matplotlib.legend.Legend at 0x27e63734460>"
      ]
     },
     "execution_count": 6,
     "metadata": {},
     "output_type": "execute_result"
    },
    {
     "data": {
      "image/png": "[encoded data removed]",
      "text/plain": [
       "<Figure size 864x576 with 2 Axes>"
      ]
     },
     "metadata": {
      "needs_background": "light"
     },
     "output_type": "display_data"
    }
   ],
   "source": [
    "# Plotting the loss and accuracy with respect to the number of epochs to view convergence \n",
    "\n",
    "fig, (ax1, ax2) = plt.subplots(2, figsize=(12, 8), sharex=True)\n",
    "ax1.plot(train_losses, color='b', label='train')\n",
    "ax1.plot(test_losses, color='g', label='test')\n",
    "ax1.set_ylabel(\"Loss\")\n",
    "ax1.set_xlabel(\"Epoch\")\n",
    "ax1.legend()\n",
    "ax2.plot(train_accuracies, color='b', label='train')\n",
    "ax2.plot(test_accuracies, color='g', label='test')\n",
    "ax2.set_ylabel(\"Accuracy\")\n",
    "ax2.set_xlabel(\"Epoch\")\n",
    "ax2.legend()"
   ]
  },
  {
   "cell_type": "code",
   "execution_count": 10,
   "id": "90ac03f9",
   "metadata": {},
   "outputs": [
    {
     "data": {
      "text/plain": [
       "array([[61,  0,  0],\n",
       "       [ 0, 58,  0],\n",
       "       [ 3,  0, 58]], dtype=int64)"
      ]
     },
     "execution_count": 10,
     "metadata": {},
     "output_type": "execute_result"
    }
   ],
   "source": [
    "# Compute confusion matrix to view number of FN or FP\n",
    "\n",
    "from sklearn.metrics import confusion_matrix\n",
    "\n",
    "# Compute final prediction for test set\n",
    "with torch.no_grad():\n",
    "    out_pred_probs_test = model(in_test).numpy()\n",
    "    \n",
    "# Convert prediction probabilities to classes \n",
    "out_pred_classes_test = np.argmax(out_pred_probs_test, axis=1)\n",
    "\n",
    "confusion_matrix(out_test, out_pred_classes_test)"
   ]
  },
  {
   "cell_type": "code",
   "execution_count": 79,
   "id": "92307244",
   "metadata": {},
   "outputs": [
    {
     "name": "stdout",
     "output_type": "stream",
     "text": [
      "Accuracy = 0.98\n",
      "Precision (global) = 0.98\n",
      "Recall (global) = 0.98\n",
      "Precision (mean of class precisions) = 0.98\n",
      "Recall (mean of class recalls) = 0.98\n"
     ]
    }
   ],
   "source": [
    "# Compute summary of accuracy, precision and recall metrics\n",
    "\n",
    "from sklearn.metrics import accuracy_score, precision_score, recall_score\n",
    "\n",
    "# Compute the accuracy.\n",
    "print(\"Accuracy = {:.2f}\".format(accuracy_score(out_test, out_pred_classes_test)))\n",
    "\n",
    "# Compute the precision (affected by class imbalance)\n",
    "print(\"Precision (global) = {:.2f}\".format(precision_score(out_test, out_pred_classes_test, average='micro')))\n",
    "# Compute the recall (affected by class imbalance)\n",
    "print(\"Recall (global) = {:.2f}\".format(recall_score(out_test, out_pred_classes_test, average='micro')))\n",
    "\n",
    "# Compute the precision (removed effect of class imbalance)\n",
    "print(\"Precision (mean of class precisions) = {:.2f}\".format(precision_score(out_test, out_pred_classes_test, average='macro')))\n",
    "# Compute the recall (removed effect of class imbalance)\n",
    "print(\"Recall (mean of class recalls) = {:.2f}\".format(recall_score(out_test, out_pred_classes_test, average='macro')))"
   ]
  },
  {
   "cell_type": "code",
   "execution_count": 7,
   "id": "e12ae148",
   "metadata": {},
   "outputs": [
    {
     "name": "stdout",
     "output_type": "stream",
     "text": [
      "Model test accuracy: 32.22%\n"
     ]
    }
   ],
   "source": [
    "# Build initial SVM without tuned hyperparamaters \n",
    "\n",
    "from sklearn.svm import SVC\n",
    "\n",
    "# Build the classifier\n",
    "svm = SVC(C=0.1, kernel='rbf', gamma=10)\n",
    "\n",
    "# Fit to the data:\n",
    "svm.fit(in_train, out_train)\n",
    "\n",
    "print('Model test accuracy: {:.2f}%'.format(svm.score(in_test, out_test)*100))"
   ]
  },
  {
   "cell_type": "code",
   "execution_count": null,
   "id": "7bfd1388",
   "metadata": {},
   "outputs": [],
   "source": [
    "# Create a grid search to find ideal hyperparameters \n",
    "\n",
    "from sklearn.model_selection import GridSearchCV\n",
    "\n",
    "# Set up a dictionary of parameters to define our grid to search over\n",
    "parameters = {\n",
    "    'kernel': ['linear', 'rbf'],\n",
    "    'C': [0.0001, 0.001, 0.01, 0.1, 1, 5, 10],\n",
    "    'gamma': [0.0001, 0.001, 0.01, 0.1, 1, 10]\n",
    "}\n",
    "\n",
    "# We will create an instance of GridSearchCV, thereby passing our estimator and our parameter grid\n",
    "clf = GridSearchCV(estimator=SVC(), param_grid=parameters)\n",
    "\n",
    "# The resulting object also behaves like an estimator, so we can call fit() to perform the search\n",
    "clf.fit(in_train, out_train)\n",
    "\n",
    "# Check the result\n",
    "print(\"Best parameters: {}\".format(clf.best_params_))"
   ]
  },
  {
   "cell_type": "code",
   "execution_count": 8,
   "id": "9cd21360",
   "metadata": {},
   "outputs": [
    {
     "name": "stdout",
     "output_type": "stream",
     "text": [
      "Final model accuracy: 100.00%\n"
     ]
    }
   ],
   "source": [
    "# Create final SVM model with ideal hyperparamters \n",
    "\n",
    "svm_final = SVC(C=1, kernel='rbf', gamma=0.01)\n",
    "svm_final.fit(in_train, out_train)\n",
    "\n",
    "print('Final model accuracy: {:.2f}%'.format(svm_final.score(in_test, out_test)*100))"
   ]
  },
  {
   "cell_type": "code",
   "execution_count": 244,
   "id": "d395cd30",
   "metadata": {},
   "outputs": [
    {
     "data": {
      "image/png": "[encoded data removed]",
      "text/plain": [
       "<Figure size 432x288 with 1 Axes>"
      ]
     },
     "metadata": {
      "needs_background": "light"
     },
     "output_type": "display_data"
    }
   ],
   "source": [
    "# Visualise activations\n",
    "\n",
    "activation_range = np.arange(-40, 40, 0.1) # interval of [-40, 40) with step size 0.1\n",
    "test_coordinates = [(x,y) for y in activation_range for x in activation_range]\n",
    "test_classifications = svm_final.predict(test_coordinates)\n",
    "x_, y_ = np.meshgrid(activation_range, activation_range)\n",
    "plt.scatter(x_, y_, c=['b' if x_ == 0 else 'none' for x_ in test_classifications])\n",
    "plt.scatter(x_, y_, c=['orange' if x_ == 1 else 'none' for x_ in test_classifications])\n",
    "plt.scatter(x_, y_, c=['g' if x_ == 2 else 'none' for x_ in test_classifications])\n",
    "plt.show()"
   ]
  },
  {
   "cell_type": "code",
   "execution_count": 11,
   "id": "a171a71a",
   "metadata": {},
   "outputs": [
    {
     "data": {
      "text/plain": [
       "array([[61,  0,  0],\n",
       "       [ 0, 58,  0],\n",
       "       [ 0,  0, 61]], dtype=int64)"
      ]
     },
     "execution_count": 11,
     "metadata": {},
     "output_type": "execute_result"
    }
   ],
   "source": [
    "# Compute confusion matrix for number of FP's and FN's\n",
    "\n",
    "out_pred_test = svm_final.predict(in_test)\n",
    "confusion_matrix(out_test, out_pred_test)"
   ]
  },
  {
   "cell_type": "code",
   "execution_count": null,
   "id": "e0e02d07",
   "metadata": {},
   "outputs": [],
   "source": []
  }
 ],
 "metadata": {
  "kernelspec": {
   "display_name": "Python 3 (ipykernel)",
   "language": "python",
   "name": "python3"
  },
  "language_info": {
   "codemirror_mode": {
    "name": "ipython",
    "version": 3
   },
   "file_extension": ".py",
   "mimetype": "text/x-python",
   "name": "python",
   "nbconvert_exporter": "python",
   "pygments_lexer": "ipython3",
   "version": "3.9.7"
  }
 },
 "nbformat": 4,
 "nbformat_minor": 5
}
