{
 "cells": [
  {
   "cell_type": "code",
   "execution_count": 2,
   "id": "4171a8fa",
   "metadata": {},
   "outputs": [
    {
     "name": "stdout",
     "output_type": "stream",
     "text": [
      "{'buildings': 0, 'forest': 1, 'glacier': 2, 'mountain': 3, 'sea': 4, 'street': 5}\n",
      "Train: 10000 examples\n",
      "Valid: 3000 examples\n",
      "Test: 2980 examples\n",
      "Train: 157 batches\n",
      "Valid: 1 batches\n",
      "Test: 1 batches\n",
      "torch.Size([3, 150, 150])\n"
     ]
    }
   ],
   "source": [
    "import torch\n",
    "import numpy as np\n",
    "from torchvision import transforms as T\n",
    "from torchvision.datasets import ImageFolder\n",
    "from torch.utils.data import DataLoader, random_split\n",
    "\n",
    "train_transforms = T.Compose([\n",
    "    T.RandomResizedCrop(scale=(0.7, 1.0), size=(150,150)),\n",
    "    T.RandomHorizontalFlip(),\n",
    "    T.ToTensor(),\n",
    "])\n",
    "eval_transforms = T.Compose([\n",
    "    T.Resize(size=(150,150)),\n",
    "    T.ToTensor()\n",
    "])\n",
    "\n",
    "\n",
    "# Create our data set splits and transform to tensors\n",
    "train_valid_data = ImageFolder('Images/seg_train/', transform = train_transforms)\n",
    "test_data = ImageFolder('Images/seg_test/', transform = eval_transforms)\n",
    "print(train_valid_data.class_to_idx)\n",
    "\n",
    "dataset_subset = torch.utils.data.Subset(train_valid_data, np.random.choice(len(train_valid_data), 13000, replace=False))\n",
    "train_data = 10000\n",
    "valid_data = 3000\n",
    "train_data, valid_data = random_split(dataset_subset, [train_data, valid_data])\n",
    "\n",
    "# Check our data set sizes\n",
    "print(\"Train: {} examples\".format(len(train_data)))\n",
    "print(\"Valid: {} examples\".format(len(valid_data)))\n",
    "print(\"Test: {} examples\".format(len(test_data)))\n",
    "\n",
    "# Wrap in DataLoader objects with batch size and shuffling preference\n",
    "train_loader = DataLoader(train_data, batch_size=64, shuffle=True)\n",
    "valid_loader = DataLoader(dataset=valid_data, batch_size=len(valid_data), shuffle=True)\n",
    "test_loader = DataLoader(dataset=test_data, batch_size=len(test_data), shuffle=False)\n",
    "\n",
    "# Check number of batches\n",
    "print(\"Train: {} batches\".format(len(train_loader)))\n",
    "print(\"Valid: {} batches\".format(len(valid_loader))) # Should be 1\n",
    "print(\"Test: {} batches\".format(len(test_loader))) # Should be 1\n",
    "\n",
    "print(train_valid_data[0][0].shape)"
   ]
  },
  {
   "cell_type": "code",
   "execution_count": 3,
   "id": "225ca7c7",
   "metadata": {},
   "outputs": [],
   "source": [
    "class Model(torch.nn.Module):\n",
    "    def __init__(self):\n",
    "        super(Model, self).__init__()\n",
    "        self.conv_layer_1 = torch.nn.Sequential(\n",
    "            torch.nn.Conv2d(3, 16, kernel_size=3, padding='same'),\n",
    "            torch.nn.BatchNorm2d(16),\n",
    "            torch.nn.ReLU(),\n",
    "            torch.nn.MaxPool2d(2)\n",
    "        )\n",
    "        self.conv_layer_2 = torch.nn.Sequential(\n",
    "            torch.nn.Conv2d(16, 32, kernel_size=3, padding='same'),\n",
    "            torch.nn.BatchNorm2d(32),\n",
    "            torch.nn.ReLU(),\n",
    "            torch.nn.MaxPool2d(2)\n",
    "        )\n",
    "        self.conv_layer_3 = torch.nn.Sequential(\n",
    "            torch.nn.Conv2d(32, 64, kernel_size=3, padding='same'),\n",
    "            torch.nn.BatchNorm2d(64),\n",
    "            torch.nn.ReLU(),\n",
    "            torch.nn.MaxPool2d(2)\n",
    "        )\n",
    "        self.conv_layer_4 = torch.nn.Sequential(\n",
    "            torch.nn.Conv2d(64, 128, kernel_size=3, padding='same'),\n",
    "            torch.nn.BatchNorm2d(128),\n",
    "            torch.nn.ReLU(),\n",
    "            torch.nn.MaxPool2d(2)\n",
    "        )\n",
    "        self.fc_layer_1 = torch.nn.Sequential(\n",
    "            torch.nn.Linear(10368, 128),\n",
    "            torch.nn.BatchNorm1d(128),\n",
    "            torch.nn.ReLU()\n",
    "        )\n",
    "        self.fc_layer_2 = torch.nn.Sequential(\n",
    "            torch.nn.Linear(128, 64),\n",
    "            torch.nn.ReLU()\n",
    "        )\n",
    "        self.fc_layer_3 = torch.nn.Sequential(\n",
    "            torch.nn.Linear(64, 32),\n",
    "            torch.nn.Dropout(),\n",
    "            torch.nn.ReLU()\n",
    "        )\n",
    "        self.fc_layer_4 = torch.nn.Linear(32, 6)\n",
    "        \n",
    "\n",
    "    def forward(self, x):\n",
    "        x = self.conv_layer_1(x)\n",
    "        x = self.conv_layer_2(x)\n",
    "        x = self.conv_layer_3(x)\n",
    "        x = self.conv_layer_4(x)\n",
    "        x = x.view(x.size(0), -1) # Flatten\n",
    "        x = self.fc_layer_1(x)\n",
    "        x = self.fc_layer_2(x)\n",
    "        x = self.fc_layer_3(x)\n",
    "        x = self.fc_layer_4(x)\n",
    "        return x"
   ]
  },
  {
   "cell_type": "code",
   "execution_count": 5,
   "id": "6ee1b1e2",
   "metadata": {},
   "outputs": [
    {
     "name": "stdout",
     "output_type": "stream",
     "text": [
      "Using cpu\n"
     ]
    }
   ],
   "source": [
    "\n",
    "device = 'cuda' if torch.cuda.is_available() else 'cpu'\n",
    "print('Using {}'.format(device))\n",
    "\n",
    "# Create an object from the model\n",
    "model = Model().to(device)\n",
    "\n",
    "# Set loss function and optimizer\n",
    "optimizer = torch.optim.Adam(params=model.parameters(), lr=0.001)\n",
    "loss_fn = torch.nn.CrossEntropyLoss()"
   ]
  },
  {
   "cell_type": "code",
   "execution_count": 8,
   "id": "dd48881e",
   "metadata": {},
   "outputs": [
    {
     "name": "stdout",
     "output_type": "stream",
     "text": [
      "Epoch: 1, train accuracy: 56.90%, train loss: 1.1319\n",
      "Epoch: 1, val accuracy: 55.50%, val loss: 1.1761\n",
      "Epoch: 2, train accuracy: 72.06%, train loss: 0.8003\n",
      "Epoch: 2, val accuracy: 74.63%, val loss: 0.6671\n",
      "Epoch: 3, train accuracy: 76.88%, train loss: 0.6769\n",
      "Epoch: 3, val accuracy: 70.60%, val loss: 0.7807\n",
      "Epoch: 4, train accuracy: 79.20%, train loss: 0.6274\n",
      "Epoch: 4, val accuracy: 78.33%, val loss: 0.6842\n",
      "Epoch: 5, train accuracy: 79.95%, train loss: 0.5957\n",
      "Epoch: 5, val accuracy: 82.33%, val loss: 0.4877\n",
      "Epoch: 6, train accuracy: 81.40%, train loss: 0.5376\n",
      "Epoch: 6, val accuracy: 72.77%, val loss: 0.7601\n",
      "Epoch: 7, train accuracy: 82.57%, train loss: 0.5201\n",
      "Epoch: 7, val accuracy: 78.67%, val loss: 0.6214\n",
      "Epoch: 8, train accuracy: 83.41%, train loss: 0.4868\n",
      "Epoch: 8, val accuracy: 57.00%, val loss: 1.8413\n",
      "Epoch: 9, train accuracy: 84.71%, train loss: 0.4535\n",
      "Epoch: 9, val accuracy: 82.57%, val loss: 0.5282\n",
      "Epoch: 10, train accuracy: 84.38%, train loss: 0.4617\n",
      "Epoch: 10, val accuracy: 83.87%, val loss: 0.4728\n",
      "Epoch: 11, train accuracy: 85.89%, train loss: 0.4357\n",
      "Epoch: 11, val accuracy: 77.53%, val loss: 0.7026\n",
      "Epoch: 12, train accuracy: 86.16%, train loss: 0.4153\n",
      "Epoch: 12, val accuracy: 76.50%, val loss: 0.6824\n",
      "Epoch: 13, train accuracy: 86.19%, train loss: 0.4127\n",
      "Epoch: 13, val accuracy: 82.23%, val loss: 0.5502\n",
      "Epoch: 14, train accuracy: 86.41%, train loss: 0.4037\n",
      "Epoch: 14, val accuracy: 85.57%, val loss: 0.4104\n",
      "Epoch: 15, train accuracy: 87.70%, train loss: 0.3704\n",
      "Epoch: 15, val accuracy: 86.17%, val loss: 0.3973\n",
      "Epoch: 16, train accuracy: 88.12%, train loss: 0.3644\n",
      "Epoch: 16, val accuracy: 86.03%, val loss: 0.4006\n",
      "Epoch: 17, train accuracy: 89.04%, train loss: 0.3414\n",
      "Epoch: 17, val accuracy: 78.13%, val loss: 0.6760\n",
      "Epoch: 18, train accuracy: 88.76%, train loss: 0.3452\n",
      "Epoch: 18, val accuracy: 86.63%, val loss: 0.4104\n",
      "Epoch: 19, train accuracy: 88.50%, train loss: 0.3477\n",
      "Epoch: 19, val accuracy: 85.47%, val loss: 0.4526\n",
      "Epoch: 20, train accuracy: 88.90%, train loss: 0.3338\n",
      "Epoch: 20, val accuracy: 85.80%, val loss: 0.4392\n",
      "Epoch: 21, train accuracy: 89.66%, train loss: 0.3094\n",
      "Epoch: 21, val accuracy: 80.43%, val loss: 0.6272\n",
      "Epoch: 22, train accuracy: 90.18%, train loss: 0.3064\n",
      "Epoch: 22, val accuracy: 85.10%, val loss: 0.4356\n",
      "Epoch: 23, train accuracy: 90.26%, train loss: 0.2918\n",
      "Epoch: 23, val accuracy: 78.63%, val loss: 0.6979\n",
      "Epoch: 24, train accuracy: 90.08%, train loss: 0.2936\n",
      "Epoch: 24, val accuracy: 84.10%, val loss: 0.4965\n",
      "Epoch: 25, train accuracy: 90.09%, train loss: 0.2963\n",
      "Epoch: 25, val accuracy: 86.27%, val loss: 0.4452\n",
      "Epoch: 26, train accuracy: 90.72%, train loss: 0.2783\n",
      "Epoch: 26, val accuracy: 85.57%, val loss: 0.4568\n",
      "Epoch: 27, train accuracy: 90.86%, train loss: 0.2784\n",
      "Epoch: 27, val accuracy: 86.10%, val loss: 0.4880\n",
      "Epoch: 28, train accuracy: 91.48%, train loss: 0.2565\n",
      "Epoch: 28, val accuracy: 83.77%, val loss: 0.4770\n",
      "Epoch: 29, train accuracy: 91.19%, train loss: 0.2611\n",
      "Epoch: 29, val accuracy: 87.17%, val loss: 0.3887\n",
      "Epoch: 30, train accuracy: 90.97%, train loss: 0.2602\n",
      "Epoch: 30, val accuracy: 85.27%, val loss: 0.5036\n",
      "Epoch: 31, train accuracy: 92.09%, train loss: 0.2431\n",
      "Epoch: 31, val accuracy: 82.50%, val loss: 0.5496\n",
      "Epoch: 32, train accuracy: 91.98%, train loss: 0.2409\n",
      "Epoch: 32, val accuracy: 83.47%, val loss: 0.5692\n",
      "Epoch: 33, train accuracy: 92.33%, train loss: 0.2338\n",
      "Epoch: 33, val accuracy: 87.33%, val loss: 0.4259\n",
      "Epoch: 34, train accuracy: 92.62%, train loss: 0.2259\n",
      "Epoch: 34, val accuracy: 85.13%, val loss: 0.4995\n",
      "Epoch: 35, train accuracy: 92.49%, train loss: 0.2271\n",
      "Epoch: 35, val accuracy: 80.17%, val loss: 0.7111\n"
     ]
    }
   ],
   "source": [
    "train_losses, val_losses = [], []\n",
    "train_accs, val_accs = [], []\n",
    "# Train for 10 epochs\n",
    "for epoch in range(35):\n",
    "    ### Training\n",
    "    # Track epoch loss and accuracy\n",
    "    epoch_loss, epoch_accuracy = 0, 0\n",
    "    # Switch model to training (affects batch norm and dropout)\n",
    "    model.train()\n",
    "    # Iterate through batches\n",
    "    for i, (data, label) in enumerate(train_loader):\n",
    "        # Reset gradients\n",
    "        optimizer.zero_grad()\n",
    "        # Move data to the used device\n",
    "        data = data.to(device)\n",
    "        label = label.to(device)\n",
    "        # Forward pass\n",
    "        output = model(data)\n",
    "        loss = loss_fn(output, label)\n",
    "        # Backward pass\n",
    "        loss.backward()\n",
    "        # Adjust weights\n",
    "        optimizer.step()\n",
    "        # Compute metrics\n",
    "        acc = ((output.argmax(dim=1) == label).float().mean())\n",
    "        epoch_accuracy += acc/len(train_loader)\n",
    "        epoch_loss += loss/len(train_loader)\n",
    "    print('Epoch: {}, train accuracy: {:.2f}%, train loss: {:.4f}'.format(epoch+1, epoch_accuracy*100, epoch_loss))\n",
    "    train_losses.append(epoch_loss.item())\n",
    "    train_accs.append(epoch_accuracy)\n",
    "    ### Evaluation\n",
    "    # Track epoch loss and accuracy\n",
    "    epoch_valid_accuracy, epoch_valid_loss = 0, 0\n",
    "    # Switch model to evaluation (affects batch norm and dropout)\n",
    "    model.eval()\n",
    "    # Disable gradients\n",
    "    with torch.no_grad():\n",
    "        # Iterate through batches\n",
    "        for data, label in valid_loader:\n",
    "            # Move data to the used device\n",
    "            data = data.to(device)\n",
    "            label = label.to(device)\n",
    "            # Forward pass\n",
    "            valid_output = model(data)\n",
    "            valid_loss = loss_fn(valid_output, label)\n",
    "            # Compute metrics\n",
    "            acc = ((valid_output.argmax(dim=1) == label).float().mean())\n",
    "            epoch_valid_accuracy += acc/len(valid_loader)\n",
    "            epoch_valid_loss += valid_loss/len(valid_loader) \n",
    "    print('Epoch: {}, val accuracy: {:.2f}%, val loss: {:.4f}'.format(epoch+1, epoch_valid_accuracy*100, epoch_valid_loss))\n",
    "    val_losses.append(epoch_valid_loss.item())\n",
    "    val_accs.append(epoch_valid_accuracy)"
   ]
  },
  {
   "cell_type": "code",
   "execution_count": 9,
   "id": "2f00a07e",
   "metadata": {},
   "outputs": [
    {
     "data": {
      "text/plain": [
       "<matplotlib.legend.Legend at 0x1cc8e35ffd0>"
      ]
     },
     "execution_count": 9,
     "metadata": {},
     "output_type": "execute_result"
    },
    {
     "data": {
      "image/png": "[encoded data removed]",
      "text/plain": [
       "<Figure size 864x576 with 2 Axes>"
      ]
     },
     "metadata": {
      "needs_background": "light"
     },
     "output_type": "display_data"
    }
   ],
   "source": [
    "# plot learning curves of accuracy and loss with respect to epochs \n",
    "\n",
    "import matplotlib.pyplot as plt\n",
    "\n",
    "fig, (ax1, ax2) = plt.subplots(2, figsize=(12, 8), sharex=True)\n",
    "ax1.plot(train_losses, color='b', label='train')\n",
    "ax1.plot(val_losses, color='g', label='valid')\n",
    "ax1.set_ylabel(\"Loss\")\n",
    "ax1.legend()\n",
    "ax2.plot(train_accs, color='b', label='train')\n",
    "ax2.plot(val_accs, color='g', label='valid')\n",
    "ax2.set_ylabel(\"Accuracy\")\n",
    "ax2.set_xlabel(\"Epoch\")\n",
    "ax2.legend()"
   ]
  },
  {
   "cell_type": "code",
   "execution_count": 10,
   "id": "333d346f",
   "metadata": {
    "scrolled": false
   },
   "outputs": [
    {
     "name": "stdout",
     "output_type": "stream",
     "text": [
      "Test loss: 0.6135\n",
      "Test accuracy: 82.38%\n"
     ]
    }
   ],
   "source": [
    "# calculate test accuracy and loss \n",
    "test_accuracy, test_loss = 0, 0\n",
    "with torch.no_grad():\n",
    "    # Iterate through batches\n",
    "    for data, label in test_loader:\n",
    "        # Move data to the used device\n",
    "        data = data.to(device)\n",
    "        label = label.to(device)\n",
    "        # Forward pass\n",
    "        test_output_i = model(data)\n",
    "        test_loss_i = loss_fn(test_output_i, label)\n",
    "        # Compute metrics\n",
    "        acc = ((test_output_i.argmax(dim=1) == label).float().mean())\n",
    "        test_accuracy += acc/len(test_loader)\n",
    "        test_loss += test_loss_i/len(test_loader)\n",
    "\n",
    "print(\"Test loss: {:.4f}\".format(test_loss))\n",
    "print(\"Test accuracy: {:.2f}%\".format(test_accuracy*100))"
   ]
  },
  {
   "cell_type": "code",
   "execution_count": 12,
   "id": "76fa5afc",
   "metadata": {},
   "outputs": [],
   "source": [
    "# Specify a path\n",
    "PATH = \"BasicModelState.pt\"\n",
    "\n",
    "# Save\n",
    "torch.save(model.state_dict(), PATH)"
   ]
  }
 ],
 "metadata": {
  "kernelspec": {
   "display_name": "Python 3 (ipykernel)",
   "language": "python",
   "name": "python3"
  },
  "language_info": {
   "codemirror_mode": {
    "name": "ipython",
    "version": 3
   },
   "file_extension": ".py",
   "mimetype": "text/x-python",
   "name": "python",
   "nbconvert_exporter": "python",
   "pygments_lexer": "ipython3",
   "version": "3.9.7"
  }
 },
 "nbformat": 4,
 "nbformat_minor": 5
}
