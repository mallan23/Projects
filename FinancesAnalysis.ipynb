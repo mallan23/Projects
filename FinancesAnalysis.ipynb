{
 "cells": [
  {
   "cell_type": "code",
   "execution_count": 1,
   "id": "b5305ba0",
   "metadata": {},
   "outputs": [],
   "source": [
    "import pyodbc # type: ignore\n",
    "import pandas as pd \n",
    "import matplotlib.pyplot as plt\n",
    "import numpy as np\n",
    "\n",
    "sqlServerName = 'DESKTOP-HNI1KAC\\SQLEXPRESS'\n",
    "databaseName = 'Finance'\n",
    "trusted_connection = 'yes'\n",
    "connenction_string = (f\"DRIVER={{SQL Server}};\"f\"SERVER={sqlServerName};\"f\"DATABASE={databaseName};\"f\"Trusted_Connection={'yes'}\")\n",
    "try:\n",
    "   conn = pyodbc.connect(connenction_string)\n",
    "except pyodbc.Error as ex:\n",
    "      print(\"An error occurred in SQL Server:\", ex)\n",
    "\n",
    "data = pd.read_sql((\"SELECT * FROM dbo.Expenses;\"), conn)\n",
    "#print(data)\n"
   ]
  },
  {
   "cell_type": "markdown",
   "id": "86823e0e",
   "metadata": {},
   "source": [
    "# Overview of Spending and Income"
   ]
  },
  {
   "cell_type": "markdown",
   "id": "e24f3338",
   "metadata": {},
   "source": [
    "## Total Quarterly Spending and Income"
   ]
  },
  {
   "cell_type": "code",
   "execution_count": 2,
   "id": "0cde6ac4",
   "metadata": {},
   "outputs": [],
   "source": [
    "QuarterlyTotalsQuery = \"\"\"\n",
    "SELECT \n",
    "    Type,\n",
    "\tDATEADD(MONTH, (DATEDIFF(MONTH, 0, Date) / 3) * 3, 0) AS IntervalStart,\n",
    "    COUNT(*) AS Count,\n",
    "    SUM(Amount) AS TotalAmount\n",
    "FROM \n",
    "    dbo.Expenses\n",
    "GROUP BY \n",
    "    DATEADD(MONTH, (DATEDIFF(MONTH, 0, Date) / 3) * 3, 0),\n",
    "    Type\n",
    "ORDER BY \n",
    "\tType,\n",
    "    IntervalStart;\n",
    "\"\"\"\n",
    "qTotals = pd.read_sql(QuarterlyTotalsQuery,conn)\n",
    "\n",
    "#Converts to date format without time (object data type).\n",
    "qTotals['IntervalStart'] = qTotals['IntervalStart'].dt.date"
   ]
  },
  {
   "cell_type": "code",
   "execution_count": 3,
   "id": "a872425c",
   "metadata": {},
   "outputs": [
    {
     "data": {
      "text/html": [
       "<div>\n",
       "<style scoped>\n",
       "    .dataframe tbody tr th:only-of-type {\n",
       "        vertical-align: middle;\n",
       "    }\n",
       "\n",
       "    .dataframe tbody tr th {\n",
       "        vertical-align: top;\n",
       "    }\n",
       "\n",
       "    .dataframe thead th {\n",
       "        text-align: right;\n",
       "    }\n",
       "</style>\n",
       "<table border=\"1\" class=\"dataframe\">\n",
       "  <thead>\n",
       "    <tr style=\"text-align: right;\">\n",
       "      <th>Type</th>\n",
       "      <th>Expense</th>\n",
       "      <th>Income</th>\n",
       "      <th>Total</th>\n",
       "    </tr>\n",
       "    <tr>\n",
       "      <th>IntervalStart</th>\n",
       "      <th></th>\n",
       "      <th></th>\n",
       "      <th></th>\n",
       "    </tr>\n",
       "  </thead>\n",
       "  <tbody>\n",
       "    <tr>\n",
       "      <th>2022-07-01</th>\n",
       "      <td>-2328.07</td>\n",
       "      <td>10850.47</td>\n",
       "      <td>8522.40</td>\n",
       "    </tr>\n",
       "    <tr>\n",
       "      <th>2022-10-01</th>\n",
       "      <td>-3626.07</td>\n",
       "      <td>12213.75</td>\n",
       "      <td>8587.68</td>\n",
       "    </tr>\n",
       "    <tr>\n",
       "      <th>2023-01-01</th>\n",
       "      <td>-4574.75</td>\n",
       "      <td>14525.08</td>\n",
       "      <td>9950.33</td>\n",
       "    </tr>\n",
       "    <tr>\n",
       "      <th>2023-04-01</th>\n",
       "      <td>-9123.18</td>\n",
       "      <td>13611.42</td>\n",
       "      <td>4488.24</td>\n",
       "    </tr>\n",
       "    <tr>\n",
       "      <th>2023-07-01</th>\n",
       "      <td>-6866.92</td>\n",
       "      <td>15366.84</td>\n",
       "      <td>8499.92</td>\n",
       "    </tr>\n",
       "    <tr>\n",
       "      <th>2023-10-01</th>\n",
       "      <td>-8328.09</td>\n",
       "      <td>12340.04</td>\n",
       "      <td>4011.95</td>\n",
       "    </tr>\n",
       "    <tr>\n",
       "      <th>2024-01-01</th>\n",
       "      <td>-10169.26</td>\n",
       "      <td>14513.69</td>\n",
       "      <td>4344.43</td>\n",
       "    </tr>\n",
       "    <tr>\n",
       "      <th>2024-04-01</th>\n",
       "      <td>-5477.68</td>\n",
       "      <td>12705.81</td>\n",
       "      <td>7228.13</td>\n",
       "    </tr>\n",
       "    <tr>\n",
       "      <th>2024-07-01</th>\n",
       "      <td>-3282.64</td>\n",
       "      <td>14873.02</td>\n",
       "      <td>11590.38</td>\n",
       "    </tr>\n",
       "    <tr>\n",
       "      <th>2024-10-01</th>\n",
       "      <td>-3675.21</td>\n",
       "      <td>10602.84</td>\n",
       "      <td>6927.63</td>\n",
       "    </tr>\n",
       "    <tr>\n",
       "      <th>Total</th>\n",
       "      <td>-57451.87</td>\n",
       "      <td>131602.96</td>\n",
       "      <td>74151.09</td>\n",
       "    </tr>\n",
       "  </tbody>\n",
       "</table>\n",
       "</div>"
      ],
      "text/plain": [
       "Type            Expense     Income     Total\n",
       "IntervalStart                               \n",
       "2022-07-01     -2328.07   10850.47   8522.40\n",
       "2022-10-01     -3626.07   12213.75   8587.68\n",
       "2023-01-01     -4574.75   14525.08   9950.33\n",
       "2023-04-01     -9123.18   13611.42   4488.24\n",
       "2023-07-01     -6866.92   15366.84   8499.92\n",
       "2023-10-01     -8328.09   12340.04   4011.95\n",
       "2024-01-01    -10169.26   14513.69   4344.43\n",
       "2024-04-01     -5477.68   12705.81   7228.13\n",
       "2024-07-01     -3282.64   14873.02  11590.38\n",
       "2024-10-01     -3675.21   10602.84   6927.63\n",
       "Total         -57451.87  131602.96  74151.09"
      ]
     },
     "execution_count": 3,
     "metadata": {},
     "output_type": "execute_result"
    }
   ],
   "source": [
    "#Formatting the above table to show income and expenses for each date range\n",
    "# Creating a pivot table, date is currently the index \n",
    "pivot_qT = qTotals.pivot_table(index='IntervalStart', columns='Type', values='TotalAmount', aggfunc='sum', \n",
    "                               margins=True, margins_name='Total')\n",
    "\n",
    "#pivot_qT.reset_index(inplace=True) # Reset index to keep IntervalStart as a column\n",
    "\n",
    "pivot_qT"
   ]
  },
  {
   "cell_type": "markdown",
   "id": "5bae9375",
   "metadata": {},
   "source": [
    "## Boxplots Weekly and Monthly Spending "
   ]
  },
  {
   "cell_type": "markdown",
   "id": "e6db22c6",
   "metadata": {},
   "source": [
    "### Monthly Expenses"
   ]
  },
  {
   "cell_type": "code",
   "execution_count": 26,
   "id": "08121929",
   "metadata": {},
   "outputs": [
    {
     "data": {
      "image/png": "[encoded data removed]",
      "text/plain": [
       "<Figure size 864x576 with 1 Axes>"
      ]
     },
     "metadata": {
      "needs_background": "light"
     },
     "output_type": "display_data"
    },
    {
     "data": {
      "text/plain": [
       "count      28.000000\n",
       "mean     2051.852500\n",
       "std      1351.704196\n",
       "min       555.350000\n",
       "25%      1114.397500\n",
       "50%      1508.325000\n",
       "75%      2730.027500\n",
       "max      5582.790000\n",
       "Name: TotalAmount, dtype: float64"
      ]
     },
     "execution_count": 26,
     "metadata": {},
     "output_type": "execute_result"
    }
   ],
   "source": [
    "monthlyTotalsQuery = \"\"\"\n",
    "SELECT \n",
    "    Type,\n",
    "\tDATEADD(MONTH, (DATEDIFF(MONTH, 0, Date)), 0) AS IntervalStart,\n",
    "    SUM(Amount) AS TotalAmount\n",
    "FROM \n",
    "    dbo.Expenses\n",
    "GROUP BY \n",
    "    DATEADD(MONTH, (DATEDIFF(MONTH, 0, Date)), 0),\n",
    "    Type\n",
    "ORDER BY \n",
    "\tType,\n",
    "    IntervalStart;\n",
    "\"\"\"\n",
    "mTotals = pd.read_sql(monthlyTotalsQuery,conn)\n",
    "\n",
    "mTotals['TotalAmount'] = mTotals['TotalAmount'].abs() # Convert negative values to positive\n",
    "mTotals_boxplot = mTotals[mTotals['Type'] != 'Income'] # Filter out rows where Type is income \n",
    "mTotals['IntervalStart'] = mTotals['IntervalStart'].dt.date #convert from date time to date\n",
    "\n",
    "plt.figure(figsize=(12, 8)) \n",
    "mTotals_boxplot.boxplot(column='TotalAmount') \n",
    "plt.title('Total Spending Per Month') \n",
    "plt.suptitle('')\n",
    "plt.xlabel('Months')\n",
    "plt.ylabel('Total Amount') \n",
    "plt.yticks(range(0, int(mTotals_boxplot['TotalAmount'].max()) + 500, 500))# Set y-axis ticks \n",
    "plt.show()\n",
    "\n",
    "# Calculate summary statistics \n",
    "summary_stats = mTotals_boxplot['TotalAmount'].describe() \n",
    "summary_stats"
   ]
  },
  {
   "cell_type": "markdown",
   "id": "1672c691",
   "metadata": {},
   "source": [
    "### Weekly Expenses "
   ]
  },
  {
   "cell_type": "code",
   "execution_count": 7,
   "id": "3f97a9bf",
   "metadata": {},
   "outputs": [
    {
     "data": {
      "image/png": "[encoded data removed]",
      "text/plain": [
       "<Figure size 864x576 with 1 Axes>"
      ]
     },
     "metadata": {
      "needs_background": "light"
     },
     "output_type": "display_data"
    },
    {
     "data": {
      "text/plain": [
       "count     122.000000\n",
       "mean      470.916967\n",
       "std       639.261201\n",
       "min         5.500000\n",
       "25%       157.400000\n",
       "50%       285.755000\n",
       "75%       507.720000\n",
       "max      4421.920000\n",
       "Name: TotalAmount, dtype: float64"
      ]
     },
     "execution_count": 7,
     "metadata": {},
     "output_type": "execute_result"
    }
   ],
   "source": [
    "weeklyTotalsQuery = \"\"\"\n",
    "SELECT \n",
    "    Type,\n",
    "    DATEADD(WEEK, DATEDIFF(WEEK, 0, Date), 0) AS IntervalStart,\n",
    "    COUNT(*) AS Count,\n",
    "    SUM(Amount) AS TotalAmount\n",
    "FROM \n",
    "    dbo.Expenses\n",
    "WHERE\n",
    "    Type = 'Expense'\n",
    "GROUP BY \n",
    "    DATEADD(WEEK, DATEDIFF(WEEK, 0, Date), 0),\n",
    "    Type\n",
    "ORDER BY \n",
    "    Type,\n",
    "    IntervalStart;\n",
    "\"\"\"\n",
    "wTotals = pd.read_sql(weeklyTotalsQuery,conn)\n",
    "\n",
    "wTotals['TotalAmount'] = wTotals['TotalAmount'].abs() # Convert negative values to positive\n",
    "\n",
    "plt.figure(figsize=(12, 8)) \n",
    "wTotals.boxplot(column='TotalAmount') \n",
    "plt.title('Total Spending Per Week') \n",
    "plt.suptitle('')\n",
    "plt.xlabel('Weeks')\n",
    "plt.ylabel('Total Amount') \n",
    "plt.yticks(range(0, int(wTotals['TotalAmount'].max()) + 500, 500))# Set y-axis ticks \n",
    "plt.show()\n",
    "\n",
    "# Calculate summary statistics \n",
    "summary_stats = wTotals['TotalAmount'].describe() \n",
    "summary_stats"
   ]
  },
  {
   "cell_type": "markdown",
   "id": "cba4ecf2",
   "metadata": {},
   "source": [
    "# Progression of Expenses Across Time"
   ]
  },
  {
   "cell_type": "markdown",
   "id": "136ef35d",
   "metadata": {},
   "source": [
    "## Comparison of Annual Weekly Expenses by Year"
   ]
  },
  {
   "cell_type": "code",
   "execution_count": 8,
   "id": "f097631a",
   "metadata": {},
   "outputs": [
    {
     "data": {
      "image/png": "[encoded data removed]",
      "text/plain": [
       "<Figure size 864x576 with 1 Axes>"
      ]
     },
     "metadata": {
      "needs_background": "light"
     },
     "output_type": "display_data"
    },
    {
     "name": "stdout",
     "output_type": "stream",
     "text": [
      "      count        mean         std   min     25%      50%       75%      max\n",
      "Year                                                                         \n",
      "2022   22.0  270.642727  246.960512   5.5   83.97  165.575  434.9400   922.42\n",
      "2023   52.0  553.383462  703.712996  18.0  233.40  326.430  532.1475  3944.70\n",
      "2024   48.0  473.370625  679.084317  33.9  162.45  272.530  502.9525  4421.92\n"
     ]
    }
   ],
   "source": [
    "#side by side boxplot comparison of weekly expenses \n",
    "\n",
    "# Extract the year from the StartDate\n",
    "wTotals['Year'] = wTotals['IntervalStart'].dt.year\n",
    "\n",
    "fig, ax = plt.subplots(figsize=(12, 8))\n",
    "wTotals.boxplot(column='TotalAmount', by='Year', ax=ax)\n",
    "plt.title('Total Weekly Expenses by Year')\n",
    "plt.suptitle('')  # Remove the automatic suptitle\n",
    "plt.xlabel('Year')\n",
    "plt.ylabel('Total Amount')\n",
    "plt.yticks(range(0, int(wTotals['TotalAmount'].max()) + 500, 250))# Set y-axis ticks \n",
    "plt.show()\n",
    "\n",
    "# Calculate summary statistics \n",
    "summary_stats = wTotals.groupby('Year')['TotalAmount'].describe() \n",
    "print(summary_stats)"
   ]
  },
  {
   "cell_type": "markdown",
   "id": "c8daf554",
   "metadata": {},
   "source": [
    "## Time Series plot of Monthly Expenses and Income"
   ]
  },
  {
   "cell_type": "code",
   "execution_count": 27,
   "id": "f69d079b",
   "metadata": {
    "scrolled": false
   },
   "outputs": [
    {
     "data": {
      "image/png": "[encoded data removed]",
      "text/plain": [
       "<Figure size 936x648 with 1 Axes>"
      ]
     },
     "metadata": {
      "needs_background": "light"
     },
     "output_type": "display_data"
    }
   ],
   "source": [
    "#includes, trendline, meanline, rolling mean, confidence interval\n",
    "\n",
    "#create a pivot table for time series plot\n",
    "pivot_mT = mTotals.pivot_table(index='IntervalStart', columns='Type', values='TotalAmount', aggfunc='sum', \n",
    "                               margins=True, margins_name='Total')\n",
    "\n",
    "pivot_mT = pivot_mT.iloc[:-1, :-1] # Remove the 'Total' row and column for plotting \n",
    "pivot_mT['MonthInt'] = np.arange(1, len(pivot_mT) + 1) # encode months as integers for trendline\n",
    "\n",
    "# Calculate the trendlines for Expense and income \n",
    "z_expense = np.polyfit(pivot_mT['MonthInt'], pivot_mT['Expense'], 1) \n",
    "p_expense = np.poly1d(z_expense) \n",
    "z_income = np.polyfit(pivot_mT['MonthInt'], pivot_mT['Income'], 1) \n",
    "p_income = np.poly1d(z_income)\n",
    "\n",
    "# Calculate the rolling means\n",
    "window_size = 6 \n",
    "pivot_mT['Expense_RollingMean'] = pivot_mT['Expense'].rolling(window=window_size).mean()\n",
    "pivot_mT['Income_RollingMean'] = pivot_mT['Income'].rolling(window=window_size).mean()\n",
    "\n",
    "# mean for mean line\n",
    "mean_expense = pivot_mT['Expense'].mean() \n",
    "mean_income = pivot_mT['Income'].mean()\n",
    "\n",
    "# Calculate standard error for confidence interval shading \n",
    "std_error_expense = pivot_mT['Expense'].std() / np.sqrt(len(pivot_mT)) \n",
    "std_error_income = pivot_mT['Income'].std() / np.sqrt(len(pivot_mT)) \n",
    "z = 1.96 # Z-score for 95% confidence interval \n",
    "# Calculate confidence intervals \n",
    "ci_expense_lower = mean_expense - z * std_error_expense \n",
    "ci_expense_upper = mean_expense + z * std_error_expense \n",
    "ci_income_lower = mean_income - z * std_error_income \n",
    "ci_income_upper = mean_income + z * std_error_income\n",
    "\n",
    "# Plot the data\n",
    "plt.figure(figsize=(13, 9))\n",
    "plt.plot(pivot_mT.index, pivot_mT['Expense'], label='Expense', marker='o', color='red')\n",
    "plt.plot(pivot_mT.index, pivot_mT['Income'], label='Income', marker='o', color='green')\n",
    "\n",
    "# Add rolling mean lines \n",
    "plt.plot(pivot_mT.index, pivot_mT['Expense_RollingMean'], color='red', linestyle='dotted', linewidth=2, label='Rolling Mean Expense')\n",
    "plt.plot(pivot_mT.index, pivot_mT['Income_RollingMean'], color='green', linestyle='dotted', linewidth=2, label='Rolling Mean Income')\n",
    "\n",
    "# Add mean lines \n",
    "plt.axhline(y=mean_expense, color='red', linestyle='solid', linewidth=1, label=f'Avg Expense: {mean_expense:.2f}') \n",
    "plt.axhline(y=mean_income, color='green', linestyle='solid', linewidth=1, label=f'Avg Income: {mean_income:.2f}')\n",
    "\n",
    "# Add confidence interval shading \n",
    "plt.fill_between(pivot_mT.index, ci_expense_lower, ci_expense_upper, color='red', alpha=0.2, label='95% CI Expense') \n",
    "plt.fill_between(pivot_mT.index, ci_income_lower, ci_income_upper, color='green', alpha=0.2, label='95% CI Income')\n",
    "\n",
    "# Add trendlines\n",
    "plt.plot(pivot_mT.index, p_expense(pivot_mT['MonthInt']), \"r--\", label=\"Trendline Expense\") \n",
    "plt.plot(pivot_mT.index, p_income(pivot_mT['MonthInt']), \"g--\", label=\"Trendline Income\")\n",
    "\n",
    "plt.title('Income and Expense Over Time (Monthly)')\n",
    "plt.xlabel('Date')\n",
    "plt.ylabel('Amount')\n",
    "plt.yticks(range(0, int(mTotals['TotalAmount'].max()) + 500, 250))# Set y-axis ticks \n",
    "plt.legend()\n",
    "plt.grid(True)\n",
    "\n",
    "plt.show()\n"
   ]
  },
  {
   "cell_type": "code",
   "execution_count": 53,
   "id": "7192028d",
   "metadata": {},
   "outputs": [
    {
     "name": "stdout",
     "output_type": "stream",
     "text": [
      "Rolling Mean for Expenses:\n",
      "IntervalStart\n",
      "2022-08-01            NaN\n",
      "2023-02-01    1172.465000\n",
      "2023-08-01    2831.123333\n",
      "2024-02-01    3035.280000\n",
      "2024-08-01    1613.681667\n",
      "Name: Expense_RollingMean, dtype: float64\n",
      "\n",
      "Rolling Mean for Income:\n",
      "IntervalStart\n",
      "2022-08-01            NaN\n",
      "2023-01-01    4666.800000\n",
      "2023-06-01    4689.416667\n",
      "2023-11-01    4709.088333\n",
      "2024-04-01    4586.120000\n",
      "2024-09-01    4596.471667\n",
      "Name: Income_RollingMean, dtype: float64\n"
     ]
    }
   ],
   "source": [
    "# Print rolling mean values \n",
    "print(\"Rolling Mean for Expenses:\") \n",
    "print(pivot_mT['Expense_RollingMean'].iloc[::6]) \n",
    "print(\"\\nRolling Mean for Income:\") \n",
    "print(pivot_mT['Income_RollingMean'].iloc[::5])"
   ]
  },
  {
   "cell_type": "markdown",
   "id": "42c91b44",
   "metadata": {},
   "source": [
    "### Rate of Spending Increase"
   ]
  },
  {
   "cell_type": "code",
   "execution_count": 32,
   "id": "f5956108",
   "metadata": {},
   "outputs": [
    {
     "name": "stdout",
     "output_type": "stream",
     "text": [
      "The rate of increase for expenses is 14.05 per month.\n",
      "The rate of increase for income is 6.79 per month.\n"
     ]
    }
   ],
   "source": [
    "# Extracting the rate of increase (slope) from the trendline coefficients \n",
    "expense_rate_of_increase = z_expense[0] \n",
    "income_rate_of_increase = z_income[0] \n",
    "print(f\"The rate of increase for expenses is {expense_rate_of_increase:.2f} per month.\") \n",
    "print(f\"The rate of increase for income is {income_rate_of_increase:.2f} per month.\")"
   ]
  },
  {
   "cell_type": "code",
   "execution_count": 30,
   "id": "f34c6f71",
   "metadata": {},
   "outputs": [
    {
     "name": "stdout",
     "output_type": "stream",
     "text": [
      "The trendline formula for expenses is: Expense = 14.05 * Date + 1848.17\n",
      "The trendline formula for income is: Income = 6.79 * Date + 4601.60\n"
     ]
    }
   ],
   "source": [
    "expense_rate_of_increase = z_expense[0] \n",
    "expense_intercept = z_expense[1] \n",
    "income_rate_of_increase = z_income[0] \n",
    "income_intercept = z_income[1]\n",
    "print(f\"The trendline formula for expenses is: Expense = {expense_rate_of_increase:.2f} * Date + {expense_intercept:.2f}\") \n",
    "print(f\"The trendline formula for income is: Income = {income_rate_of_increase:.2f} * Date + {income_intercept:.2f}\")"
   ]
  },
  {
   "cell_type": "markdown",
   "id": "243a544f",
   "metadata": {},
   "source": [
    "### Weekly Average Spending per Quarter"
   ]
  },
  {
   "cell_type": "code",
   "execution_count": 8,
   "id": "1066f435",
   "metadata": {},
   "outputs": [
    {
     "data": {
      "text/html": [
       "<div>\n",
       "<style scoped>\n",
       "    .dataframe tbody tr th:only-of-type {\n",
       "        vertical-align: middle;\n",
       "    }\n",
       "\n",
       "    .dataframe tbody tr th {\n",
       "        vertical-align: top;\n",
       "    }\n",
       "\n",
       "    .dataframe thead th {\n",
       "        text-align: right;\n",
       "    }\n",
       "</style>\n",
       "<table border=\"1\" class=\"dataframe\">\n",
       "  <thead>\n",
       "    <tr style=\"text-align: right;\">\n",
       "      <th></th>\n",
       "      <th>Year</th>\n",
       "      <th>Quarter</th>\n",
       "      <th>WeeklyAverage</th>\n",
       "    </tr>\n",
       "  </thead>\n",
       "  <tbody>\n",
       "    <tr>\n",
       "      <th>0</th>\n",
       "      <td>2022</td>\n",
       "      <td>3</td>\n",
       "      <td>-267.16</td>\n",
       "    </tr>\n",
       "    <tr>\n",
       "      <th>1</th>\n",
       "      <td>2022</td>\n",
       "      <td>4</td>\n",
       "      <td>-275.90</td>\n",
       "    </tr>\n",
       "    <tr>\n",
       "      <th>2</th>\n",
       "      <td>2023</td>\n",
       "      <td>1</td>\n",
       "      <td>-355.81</td>\n",
       "    </tr>\n",
       "    <tr>\n",
       "      <th>3</th>\n",
       "      <td>2023</td>\n",
       "      <td>2</td>\n",
       "      <td>-701.78</td>\n",
       "    </tr>\n",
       "    <tr>\n",
       "      <th>4</th>\n",
       "      <td>2023</td>\n",
       "      <td>3</td>\n",
       "      <td>-522.48</td>\n",
       "    </tr>\n",
       "    <tr>\n",
       "      <th>5</th>\n",
       "      <td>2023</td>\n",
       "      <td>4</td>\n",
       "      <td>-633.66</td>\n",
       "    </tr>\n",
       "    <tr>\n",
       "      <th>6</th>\n",
       "      <td>2024</td>\n",
       "      <td>1</td>\n",
       "      <td>-782.25</td>\n",
       "    </tr>\n",
       "    <tr>\n",
       "      <th>7</th>\n",
       "      <td>2024</td>\n",
       "      <td>2</td>\n",
       "      <td>-421.36</td>\n",
       "    </tr>\n",
       "    <tr>\n",
       "      <th>8</th>\n",
       "      <td>2024</td>\n",
       "      <td>3</td>\n",
       "      <td>-249.77</td>\n",
       "    </tr>\n",
       "    <tr>\n",
       "      <th>9</th>\n",
       "      <td>2024</td>\n",
       "      <td>4</td>\n",
       "      <td>-421.75</td>\n",
       "    </tr>\n",
       "  </tbody>\n",
       "</table>\n",
       "</div>"
      ],
      "text/plain": [
       "   Year  Quarter  WeeklyAverage\n",
       "0  2022        3        -267.16\n",
       "1  2022        4        -275.90\n",
       "2  2023        1        -355.81\n",
       "3  2023        2        -701.78\n",
       "4  2023        3        -522.48\n",
       "5  2023        4        -633.66\n",
       "6  2024        1        -782.25\n",
       "7  2024        2        -421.36\n",
       "8  2024        3        -249.77\n",
       "9  2024        4        -421.75"
      ]
     },
     "execution_count": 8,
     "metadata": {},
     "output_type": "execute_result"
    }
   ],
   "source": [
    "#Weekly average spending per quarter\n",
    "weeklyAveragesQuery = \"\"\"\n",
    "WITH DaysInMonth AS (\n",
    "    SELECT \n",
    "        DISTINCT DATEPART(year, Date) AS Year, \n",
    "        DATEPART(month, Date) AS Month, \n",
    "        DAY(EOMONTH(Date)) AS DaysInMonth \n",
    "    FROM \n",
    "        dbo.Expenses\n",
    "),\n",
    "MonthlySpending AS (\n",
    "    SELECT \n",
    "        DATEPART(year, Date) AS Year, \n",
    "        DATEPART(month, Date) AS Month, \n",
    "        SUM(Amount) AS MonthlyTotal \n",
    "    FROM \n",
    "        dbo.Expenses \n",
    "    WHERE \n",
    "        Type = 'Expense' \n",
    "    GROUP BY \n",
    "        DATEPART(year, Date), \n",
    "        DATEPART(month, Date)\n",
    "),\n",
    "QuarterlySpending AS (\n",
    "    SELECT \n",
    "        ms.Year,\n",
    "        (ms.Month - 1) / 3 + 1 AS Quarter,\n",
    "        SUM(MonthlyTotal) AS QuarterlyTotal,\n",
    "        SUM(DaysInMonth) AS DaysInQuarter\n",
    "    FROM \n",
    "        MonthlySpending ms\n",
    "    JOIN \n",
    "        DaysInMonth dim ON ms.Year = dim.Year AND ms.Month = dim.Month \n",
    "    GROUP BY \n",
    "        ms.Year, \n",
    "        (ms.Month - 1) / 3 + 1\n",
    ")\n",
    "SELECT \n",
    "    Year, \n",
    "    Quarter,\n",
    "    CAST(QuarterlyTotal / (DaysInQuarter / 7.0) AS Decimal(16,2)) AS WeeklyAverage \n",
    "FROM \n",
    "    QuarterlySpending \n",
    "ORDER BY \n",
    "    Year, \n",
    "    Quarter;\n",
    "\"\"\"\n",
    "wAverages = pd.read_sql(weeklyAveragesQuery,conn)\n",
    "wAverages"
   ]
  },
  {
   "cell_type": "markdown",
   "id": "f5f54741",
   "metadata": {},
   "source": [
    "### Weekly Average Spending per Month - Side By Side Boxplot (include summary table)"
   ]
  },
  {
   "cell_type": "code",
   "execution_count": 16,
   "id": "c03841e9",
   "metadata": {},
   "outputs": [
    {
     "data": {
      "image/png": "[encoded data removed]",
      "text/plain": [
       "<Figure size 864x432 with 1 Axes>"
      ]
     },
     "metadata": {
      "needs_background": "light"
     },
     "output_type": "display_data"
    }
   ],
   "source": [
    "#Weekly average spending per month\n",
    "weeklyAveragesQuery = \"\"\"\n",
    "WITH DaysInMonth AS (\n",
    "    SELECT \n",
    "\t\tDISTINCT DATEPART(year, Date) AS Year, \n",
    "\t\tDATEPART(month, Date) AS Month, \n",
    "\t\tDAY(EOMONTH(Date)) AS DaysInMonth \n",
    "\tFROM \n",
    "\t\tdbo.Expenses\n",
    "),\n",
    "MonthlySpending AS (\n",
    "    SELECT \n",
    "\t\tDATEPART(year, Date) AS Year, \n",
    "\t\tDATEPART(month, Date) AS Month, \n",
    "\t\tSUM(Amount) AS MonthlyTotal \n",
    "\tFROM \n",
    "\t\tdbo.Expenses \n",
    "\tWHERE \n",
    "\t\tType = 'Expense' \n",
    "\tGROUP BY \n",
    "\t\tDATEPART(year, Date), \n",
    "\t\tDATEPART(month, Date)\n",
    ")\n",
    "SELECT \n",
    "\tms.Year, \n",
    "\tms.Month, \n",
    "\tCAST(ms.MonthlyTotal / (dim.DaysInMonth / 7.0) AS Decimal(16,2)) AS WeeklyAverage \n",
    "\tFROM \n",
    "\t\tMonthlySpending ms \n",
    "\tJOIN \n",
    "\t\tDaysInMonth dim ON ms.Year = dim.Year AND ms.Month = dim.Month \n",
    "\tORDER BY \n",
    "\t\tms.Year, \n",
    "\t\tms.Month;\n",
    "\"\"\"\n",
    "wAverages = pd.read_sql(weeklyAveragesQuery,conn)\n",
    "# Convert negative values to positive\n",
    "wAverages['WeeklyAverage'] = wAverages['WeeklyAverage'].abs()\n",
    "#wAverages\n",
    "\n",
    "import seaborn as sns\n",
    "\n",
    "# Create side-by-side boxplots\n",
    "plt.figure(figsize=(12, 6))\n",
    "sns.boxplot(x='Year', y='WeeklyAverage', data=wAverages)\n",
    "plt.title('Side-by-Side Boxplots of Weekly Average by Year')\n",
    "plt.xlabel('Year')\n",
    "plt.ylabel('Weekly Average')\n",
    "plt.show()"
   ]
  },
  {
   "cell_type": "markdown",
   "id": "d8518587",
   "metadata": {},
   "source": [
    "# Savings"
   ]
  },
  {
   "cell_type": "code",
   "execution_count": 54,
   "id": "c4b237c4",
   "metadata": {
    "scrolled": true
   },
   "outputs": [
    {
     "data": {
      "image/png": "[encoded data removed]",
      "text/plain": [
       "<Figure size 936x648 with 1 Axes>"
      ]
     },
     "metadata": {
      "needs_background": "light"
     },
     "output_type": "display_data"
    }
   ],
   "source": [
    "#same pivot creation as quarterly totals\n",
    "pivot_mT = mTotals.pivot_table(index='IntervalStart', columns='Type', values='TotalAmount', aggfunc='sum', \n",
    "                               margins=True, margins_name='Savings')\n",
    "\n",
    "# Remove the bottom total savings row for plotting \n",
    "pivot_mT = pivot_mT[:-1]\n",
    "\n",
    "# Plot the data\n",
    "plt.figure(figsize=(13, 9))\n",
    "plt.plot(pivot_mT.index, pivot_mT['Savings'], label='Total', marker='o', color='green')\n",
    "\n",
    "# Add mean line \n",
    "mean_savings = pivot_mT['Savings'].mean()\n",
    "plt.axhline(y=mean_savings, color='green', linestyle='solid', linewidth=1, label=f'Avg Savings: {mean_savings:.2f}')\n",
    "\n",
    "# Calculate the rolling means\n",
    "window_size = 3\n",
    "pivot_mT['Savings_RollingMean'] = pivot_mT['Savings'].rolling(window=window_size).mean()\n",
    "\n",
    "# Add rolling mean lines \n",
    "plt.plot(pivot_mT.index, pivot_mT['Savings_RollingMean'], color='red', linestyle='dotted', linewidth=2, label='Rolling Mean Savings')\n",
    "\n",
    "plt.title('Savings Over Time (Monthly)')\n",
    "plt.xlabel('Date')\n",
    "plt.ylabel('Amount')\n",
    "plt.yticks(range(int(pivot_mT['Savings'].min()) - 500, int(pivot_mT['Savings'].max()) + 500, 250))# Set y-axis ticks \n",
    "plt.legend()\n",
    "plt.grid(True)\n",
    "\n",
    "plt.show()"
   ]
  },
  {
   "cell_type": "code",
   "execution_count": 55,
   "id": "907092c2",
   "metadata": {
    "scrolled": true
   },
   "outputs": [
    {
     "name": "stdout",
     "output_type": "stream",
     "text": [
      "Rolling Mean for Savings:\n",
      "IntervalStart\n",
      "2022-08-01            NaN\n",
      "2022-11-01    3793.830000\n",
      "2023-02-01    3046.816667\n",
      "2023-05-01    2112.893333\n",
      "2023-08-01    2389.320000\n",
      "2023-11-01    1427.126667\n",
      "2024-02-01    1472.783333\n",
      "2024-05-01    2132.673333\n",
      "2024-08-01    3774.526667\n",
      "2024-11-01    3491.676667\n",
      "Name: Savings_RollingMean, dtype: float64\n"
     ]
    }
   ],
   "source": [
    "# Print rolling mean values \n",
    "print(\"Rolling Mean for Savings:\") \n",
    "print(pivot_mT['Savings_RollingMean'].iloc[::3]) "
   ]
  },
  {
   "cell_type": "markdown",
   "id": "fac855f0",
   "metadata": {},
   "source": [
    "## Weekly savings"
   ]
  },
  {
   "cell_type": "code",
   "execution_count": null,
   "id": "6ac20979",
   "metadata": {},
   "outputs": [],
   "source": []
  },
  {
   "cell_type": "markdown",
   "id": "107ac2a7",
   "metadata": {},
   "source": [
    "## Category Breakdown"
   ]
  },
  {
   "cell_type": "code",
   "execution_count": 6,
   "id": "acf96645",
   "metadata": {},
   "outputs": [],
   "source": [
    "catBreakdownQuery = \"\"\"\n",
    "SELECT Category, SUM(Amount) AS Total, (SUM(Amount) * 100.0 / (SELECT SUM(Amount) FROM dbo.Expenses WHERE Amount < 0)) AS PercentageOfTotal\n",
    "FROM dbo.Expenses\n",
    "WHERE Amount < 0\n",
    "GROUP BY Category\n",
    "ORDER BY Total ASC;\n",
    "\"\"\"\n",
    "catbreak = pd.read_sql(catBreakdownQuery,conn)\n",
    "#catbreak\n",
    "\n",
    "# Convert negative values to positive for pareto chart\n",
    "catbreak['Total'] = catbreak['Total'].abs()\n",
    "# Sort by totals in descending order \n",
    "catbreak = catbreak.sort_values(by='Total', ascending=False) \n",
    "# Calculate cumulative percentage \n",
    "catbreak['CumulativePercentage'] = catbreak['PercentageOfTotal'].cumsum()\n"
   ]
  },
  {
   "cell_type": "code",
   "execution_count": 7,
   "id": "ba5b9505",
   "metadata": {},
   "outputs": [
    {
     "data": {
      "image/png": "[encoded data removed]",
      "text/plain": [
       "<Figure size 864x576 with 2 Axes>"
      ]
     },
     "metadata": {},
     "output_type": "display_data"
    }
   ],
   "source": [
    "# Plot the Pareto chart\n",
    "fig, ax1 = plt.subplots(figsize=(12, 8))\n",
    "\n",
    "# Bar chart for TotalAmount\n",
    "ax1.bar(catbreak['Category'], catbreak['Total'], color='C0')\n",
    "ax1.set_xlabel('Category')\n",
    "ax1.set_ylabel('Total', color='C0')\n",
    "ax1.tick_params(axis='y', labelcolor='C0')\n",
    "plt.xticks(rotation=-20, ha='left') #rotate cat labels so they dont overlap\n",
    "\n",
    "# Line chart for CumulativePercentage on secondary y-axis\n",
    "ax2 = ax1.twinx()\n",
    "ax2.plot(catbreak['Category'], catbreak['CumulativePercentage'], color='C1', marker='D', linestyle='-', linewidth=2)\n",
    "ax2.set_ylabel('Cumulative Percentage', color='C1')\n",
    "ax2.tick_params(axis='y', labelcolor='C1')\n",
    "ax2.set_ylim(0,102) # Set bottom limit to 0 to make gaps equivalent\n",
    "\n",
    "# Set custom ticks for the cumulative percentage axis\n",
    "ax2.set_yticks(range(0, 101, 10))\n",
    "\n",
    "plt.title('Pareto Chart of Expenses')\n",
    "fig.tight_layout()\n",
    "plt.show()\n"
   ]
  },
  {
   "cell_type": "markdown",
   "id": "f1b55e9f",
   "metadata": {},
   "source": [
    "## Subcategory Breakdown"
   ]
  },
  {
   "cell_type": "code",
   "execution_count": 8,
   "id": "22b7c812",
   "metadata": {},
   "outputs": [
    {
     "data": {
      "text/html": [
       "<div>\n",
       "<style scoped>\n",
       "    .dataframe tbody tr th:only-of-type {\n",
       "        vertical-align: middle;\n",
       "    }\n",
       "\n",
       "    .dataframe tbody tr th {\n",
       "        vertical-align: top;\n",
       "    }\n",
       "\n",
       "    .dataframe thead th {\n",
       "        text-align: right;\n",
       "    }\n",
       "</style>\n",
       "<table border=\"1\" class=\"dataframe\">\n",
       "  <thead>\n",
       "    <tr style=\"text-align: right;\">\n",
       "      <th></th>\n",
       "      <th>Category</th>\n",
       "      <th>Subcategory</th>\n",
       "      <th>Total</th>\n",
       "    </tr>\n",
       "  </thead>\n",
       "  <tbody>\n",
       "    <tr>\n",
       "      <th>0</th>\n",
       "      <td>Beauty</td>\n",
       "      <td>irregular</td>\n",
       "      <td>1508.25</td>\n",
       "    </tr>\n",
       "    <tr>\n",
       "      <th>1</th>\n",
       "      <td>Beauty</td>\n",
       "      <td>skin</td>\n",
       "      <td>1205.84</td>\n",
       "    </tr>\n",
       "    <tr>\n",
       "      <th>2</th>\n",
       "      <td>Beauty</td>\n",
       "      <td>haircut</td>\n",
       "      <td>622.35</td>\n",
       "    </tr>\n",
       "    <tr>\n",
       "      <th>3</th>\n",
       "      <td>Beauty</td>\n",
       "      <td>dentist</td>\n",
       "      <td>400.00</td>\n",
       "    </tr>\n",
       "    <tr>\n",
       "      <th>4</th>\n",
       "      <td>Beauty</td>\n",
       "      <td>Pilot</td>\n",
       "      <td>205.00</td>\n",
       "    </tr>\n",
       "    <tr>\n",
       "      <th>5</th>\n",
       "      <td>Bills &amp; Fees</td>\n",
       "      <td>phone plan</td>\n",
       "      <td>490.00</td>\n",
       "    </tr>\n",
       "    <tr>\n",
       "      <th>6</th>\n",
       "      <td>Bills &amp; Fees</td>\n",
       "      <td>Tax</td>\n",
       "      <td>374.00</td>\n",
       "    </tr>\n",
       "    <tr>\n",
       "      <th>7</th>\n",
       "      <td>Bills &amp; Fees</td>\n",
       "      <td>subscriptions</td>\n",
       "      <td>123.90</td>\n",
       "    </tr>\n",
       "    <tr>\n",
       "      <th>8</th>\n",
       "      <td>Car</td>\n",
       "      <td>Fuel</td>\n",
       "      <td>3867.72</td>\n",
       "    </tr>\n",
       "    <tr>\n",
       "      <th>9</th>\n",
       "      <td>Car</td>\n",
       "      <td>Payments</td>\n",
       "      <td>2213.20</td>\n",
       "    </tr>\n",
       "    <tr>\n",
       "      <th>10</th>\n",
       "      <td>Car</td>\n",
       "      <td>Maintenance</td>\n",
       "      <td>643.64</td>\n",
       "    </tr>\n",
       "    <tr>\n",
       "      <th>11</th>\n",
       "      <td>Car</td>\n",
       "      <td>Parking</td>\n",
       "      <td>93.80</td>\n",
       "    </tr>\n",
       "    <tr>\n",
       "      <th>12</th>\n",
       "      <td>Education</td>\n",
       "      <td>irregular</td>\n",
       "      <td>1047.43</td>\n",
       "    </tr>\n",
       "    <tr>\n",
       "      <th>13</th>\n",
       "      <td>Education</td>\n",
       "      <td>subscriptions</td>\n",
       "      <td>29.00</td>\n",
       "    </tr>\n",
       "    <tr>\n",
       "      <th>14</th>\n",
       "      <td>Entertainment</td>\n",
       "      <td>subscriptions</td>\n",
       "      <td>1345.95</td>\n",
       "    </tr>\n",
       "    <tr>\n",
       "      <th>15</th>\n",
       "      <td>Entertainment</td>\n",
       "      <td>Movies</td>\n",
       "      <td>448.71</td>\n",
       "    </tr>\n",
       "    <tr>\n",
       "      <th>16</th>\n",
       "      <td>Entertainment</td>\n",
       "      <td>irregular</td>\n",
       "      <td>368.30</td>\n",
       "    </tr>\n",
       "    <tr>\n",
       "      <th>17</th>\n",
       "      <td>Entertainment</td>\n",
       "      <td>Video game</td>\n",
       "      <td>322.18</td>\n",
       "    </tr>\n",
       "    <tr>\n",
       "      <th>18</th>\n",
       "      <td>Entertainment</td>\n",
       "      <td>Sound</td>\n",
       "      <td>149.00</td>\n",
       "    </tr>\n",
       "    <tr>\n",
       "      <th>19</th>\n",
       "      <td>Entertainment</td>\n",
       "      <td>Physician</td>\n",
       "      <td>88.00</td>\n",
       "    </tr>\n",
       "    <tr>\n",
       "      <th>20</th>\n",
       "      <td>Entertainment</td>\n",
       "      <td>Poker</td>\n",
       "      <td>25.00</td>\n",
       "    </tr>\n",
       "    <tr>\n",
       "      <th>21</th>\n",
       "      <td>Family &amp; Personal</td>\n",
       "      <td>H</td>\n",
       "      <td>3768.61</td>\n",
       "    </tr>\n",
       "    <tr>\n",
       "      <th>22</th>\n",
       "      <td>Family &amp; Personal</td>\n",
       "      <td>V</td>\n",
       "      <td>1172.43</td>\n",
       "    </tr>\n",
       "    <tr>\n",
       "      <th>23</th>\n",
       "      <td>Food &amp; Drink</td>\n",
       "      <td>restaurant/cafe</td>\n",
       "      <td>1645.57</td>\n",
       "    </tr>\n",
       "    <tr>\n",
       "      <th>24</th>\n",
       "      <td>Food &amp; Drink</td>\n",
       "      <td>fast food</td>\n",
       "      <td>1590.23</td>\n",
       "    </tr>\n",
       "    <tr>\n",
       "      <th>25</th>\n",
       "      <td>Food &amp; Drink</td>\n",
       "      <td>snack</td>\n",
       "      <td>1109.78</td>\n",
       "    </tr>\n",
       "    <tr>\n",
       "      <th>26</th>\n",
       "      <td>Food &amp; Drink</td>\n",
       "      <td>Work lunch fund</td>\n",
       "      <td>224.00</td>\n",
       "    </tr>\n",
       "    <tr>\n",
       "      <th>27</th>\n",
       "      <td>Food &amp; Drink</td>\n",
       "      <td>coffee</td>\n",
       "      <td>211.41</td>\n",
       "    </tr>\n",
       "    <tr>\n",
       "      <th>28</th>\n",
       "      <td>Food &amp; Drink</td>\n",
       "      <td>boxing</td>\n",
       "      <td>13.70</td>\n",
       "    </tr>\n",
       "    <tr>\n",
       "      <th>29</th>\n",
       "      <td>Gifts</td>\n",
       "      <td>Gifts</td>\n",
       "      <td>444.91</td>\n",
       "    </tr>\n",
       "    <tr>\n",
       "      <th>30</th>\n",
       "      <td>Healthcare</td>\n",
       "      <td>physio</td>\n",
       "      <td>805.00</td>\n",
       "    </tr>\n",
       "    <tr>\n",
       "      <th>31</th>\n",
       "      <td>Healthcare</td>\n",
       "      <td>Nutrition</td>\n",
       "      <td>762.72</td>\n",
       "    </tr>\n",
       "    <tr>\n",
       "      <th>32</th>\n",
       "      <td>Healthcare</td>\n",
       "      <td>Physician</td>\n",
       "      <td>433.75</td>\n",
       "    </tr>\n",
       "    <tr>\n",
       "      <th>33</th>\n",
       "      <td>Healthcare</td>\n",
       "      <td>dentist</td>\n",
       "      <td>340.00</td>\n",
       "    </tr>\n",
       "    <tr>\n",
       "      <th>34</th>\n",
       "      <td>Healthcare</td>\n",
       "      <td>Sleep</td>\n",
       "      <td>316.95</td>\n",
       "    </tr>\n",
       "    <tr>\n",
       "      <th>35</th>\n",
       "      <td>Other</td>\n",
       "      <td>irregular</td>\n",
       "      <td>135.30</td>\n",
       "    </tr>\n",
       "    <tr>\n",
       "      <th>36</th>\n",
       "      <td>Other</td>\n",
       "      <td>Selling</td>\n",
       "      <td>100.00</td>\n",
       "    </tr>\n",
       "    <tr>\n",
       "      <th>37</th>\n",
       "      <td>Shopping</td>\n",
       "      <td>clothes</td>\n",
       "      <td>302.00</td>\n",
       "    </tr>\n",
       "    <tr>\n",
       "      <th>38</th>\n",
       "      <td>Shopping</td>\n",
       "      <td>irregular</td>\n",
       "      <td>221.78</td>\n",
       "    </tr>\n",
       "    <tr>\n",
       "      <th>39</th>\n",
       "      <td>Sport &amp; Hobbies</td>\n",
       "      <td>snowboarding</td>\n",
       "      <td>3287.07</td>\n",
       "    </tr>\n",
       "    <tr>\n",
       "      <th>40</th>\n",
       "      <td>Sport &amp; Hobbies</td>\n",
       "      <td>climbing</td>\n",
       "      <td>2570.54</td>\n",
       "    </tr>\n",
       "    <tr>\n",
       "      <th>41</th>\n",
       "      <td>Sport &amp; Hobbies</td>\n",
       "      <td>Hiking/camping</td>\n",
       "      <td>2110.57</td>\n",
       "    </tr>\n",
       "    <tr>\n",
       "      <th>42</th>\n",
       "      <td>Sport &amp; Hobbies</td>\n",
       "      <td>Gym</td>\n",
       "      <td>2047.90</td>\n",
       "    </tr>\n",
       "    <tr>\n",
       "      <th>43</th>\n",
       "      <td>Sport &amp; Hobbies</td>\n",
       "      <td>Mtb</td>\n",
       "      <td>802.00</td>\n",
       "    </tr>\n",
       "    <tr>\n",
       "      <th>44</th>\n",
       "      <td>Sport &amp; Hobbies</td>\n",
       "      <td>Gym - Supps</td>\n",
       "      <td>721.44</td>\n",
       "    </tr>\n",
       "    <tr>\n",
       "      <th>45</th>\n",
       "      <td>Sport &amp; Hobbies</td>\n",
       "      <td>boxing</td>\n",
       "      <td>449.00</td>\n",
       "    </tr>\n",
       "    <tr>\n",
       "      <th>46</th>\n",
       "      <td>Sport &amp; Hobbies</td>\n",
       "      <td>Fishing</td>\n",
       "      <td>143.00</td>\n",
       "    </tr>\n",
       "    <tr>\n",
       "      <th>47</th>\n",
       "      <td>Town</td>\n",
       "      <td>Town</td>\n",
       "      <td>2361.24</td>\n",
       "    </tr>\n",
       "    <tr>\n",
       "      <th>48</th>\n",
       "      <td>Transport</td>\n",
       "      <td>Train</td>\n",
       "      <td>358.74</td>\n",
       "    </tr>\n",
       "    <tr>\n",
       "      <th>49</th>\n",
       "      <td>Travel</td>\n",
       "      <td>Japan trip</td>\n",
       "      <td>6236.10</td>\n",
       "    </tr>\n",
       "    <tr>\n",
       "      <th>50</th>\n",
       "      <td>Travel</td>\n",
       "      <td>NZ</td>\n",
       "      <td>3868.30</td>\n",
       "    </tr>\n",
       "    <tr>\n",
       "      <th>51</th>\n",
       "      <td>Travel</td>\n",
       "      <td>Snowboard trip 1</td>\n",
       "      <td>1134.07</td>\n",
       "    </tr>\n",
       "    <tr>\n",
       "      <th>52</th>\n",
       "      <td>Travel</td>\n",
       "      <td>Overland Trip</td>\n",
       "      <td>862.42</td>\n",
       "    </tr>\n",
       "    <tr>\n",
       "      <th>53</th>\n",
       "      <td>Travel</td>\n",
       "      <td>Snowboard trip 2</td>\n",
       "      <td>815.42</td>\n",
       "    </tr>\n",
       "    <tr>\n",
       "      <th>54</th>\n",
       "      <td>Travel</td>\n",
       "      <td>big trip</td>\n",
       "      <td>440.67</td>\n",
       "    </tr>\n",
       "    <tr>\n",
       "      <th>55</th>\n",
       "      <td>Work</td>\n",
       "      <td>Caffeine</td>\n",
       "      <td>54.98</td>\n",
       "    </tr>\n",
       "    <tr>\n",
       "      <th>56</th>\n",
       "      <td>Work</td>\n",
       "      <td>irregular</td>\n",
       "      <td>19.00</td>\n",
       "    </tr>\n",
       "  </tbody>\n",
       "</table>\n",
       "</div>"
      ],
      "text/plain": [
       "             Category       Subcategory    Total\n",
       "0              Beauty        irregular   1508.25\n",
       "1              Beauty              skin  1205.84\n",
       "2              Beauty           haircut   622.35\n",
       "3              Beauty           dentist   400.00\n",
       "4              Beauty             Pilot   205.00\n",
       "5        Bills & Fees        phone plan   490.00\n",
       "6        Bills & Fees               Tax   374.00\n",
       "7        Bills & Fees    subscriptions    123.90\n",
       "8                 Car              Fuel  3867.72\n",
       "9                 Car          Payments  2213.20\n",
       "10                Car       Maintenance   643.64\n",
       "11                Car           Parking    93.80\n",
       "12          Education         irregular  1047.43\n",
       "13          Education     subscriptions    29.00\n",
       "14      Entertainment     subscriptions  1345.95\n",
       "15      Entertainment            Movies   448.71\n",
       "16      Entertainment        irregular    368.30\n",
       "17      Entertainment        Video game   322.18\n",
       "18      Entertainment             Sound   149.00\n",
       "19      Entertainment         Physician    88.00\n",
       "20      Entertainment             Poker    25.00\n",
       "21  Family & Personal                 H  3768.61\n",
       "22  Family & Personal                 V  1172.43\n",
       "23       Food & Drink   restaurant/cafe  1645.57\n",
       "24       Food & Drink         fast food  1590.23\n",
       "25       Food & Drink             snack  1109.78\n",
       "26       Food & Drink   Work lunch fund   224.00\n",
       "27       Food & Drink            coffee   211.41\n",
       "28       Food & Drink            boxing    13.70\n",
       "29              Gifts             Gifts   444.91\n",
       "30         Healthcare            physio   805.00\n",
       "31         Healthcare         Nutrition   762.72\n",
       "32         Healthcare         Physician   433.75\n",
       "33         Healthcare           dentist   340.00\n",
       "34         Healthcare             Sleep   316.95\n",
       "35              Other        irregular    135.30\n",
       "36              Other           Selling   100.00\n",
       "37           Shopping           clothes   302.00\n",
       "38           Shopping        irregular    221.78\n",
       "39    Sport & Hobbies      snowboarding  3287.07\n",
       "40    Sport & Hobbies          climbing  2570.54\n",
       "41    Sport & Hobbies    Hiking/camping  2110.57\n",
       "42    Sport & Hobbies               Gym  2047.90\n",
       "43    Sport & Hobbies               Mtb   802.00\n",
       "44    Sport & Hobbies       Gym - Supps   721.44\n",
       "45    Sport & Hobbies            boxing   449.00\n",
       "46    Sport & Hobbies           Fishing   143.00\n",
       "47               Town              Town  2361.24\n",
       "48          Transport             Train   358.74\n",
       "49             Travel        Japan trip  6236.10\n",
       "50             Travel                NZ  3868.30\n",
       "51             Travel  Snowboard trip 1  1134.07\n",
       "52             Travel     Overland Trip   862.42\n",
       "53             Travel  Snowboard trip 2   815.42\n",
       "54             Travel          big trip   440.67\n",
       "55               Work          Caffeine    54.98\n",
       "56               Work        irregular     19.00"
      ]
     },
     "execution_count": 8,
     "metadata": {},
     "output_type": "execute_result"
    }
   ],
   "source": [
    "subcatBreakdownQuery = \"\"\"\n",
    "SELECT Category, Subcategory, SUM(Amount) as Total\n",
    "FROM dbo.Expenses \n",
    "WHERE Amount < 0 \n",
    "GROUP BY Category,Subcategory \n",
    "ORDER BY Category,Total ASC;\n",
    "\"\"\"\n",
    "subcatbreak = pd.read_sql(subcatBreakdownQuery,conn)\n",
    "subcatbreak['Total'] = subcatbreak['Total'].abs() #make values positve for the treemap \n",
    "\n",
    "subcatbreak"
   ]
  },
  {
   "cell_type": "code",
   "execution_count": 13,
   "id": "54802bb0",
   "metadata": {},
   "outputs": [
    {
     "data": {
      "application/vnd.plotly.v1+json": {
       "config": {
        "plotlyServerURL": "https://plot.ly"
       },
       "data": [
        {
         "branchvalues": "total",
         "domain": {
          "x": [
           0,
           1
          ],
          "y": [
           0,
           1
          ]
         },
         "hovertemplate": "labels=%{label}<br>Total=%{value}<br>parent=%{parent}<br>id=%{id}<extra></extra>",
         "ids": [
          "Work/Caffeine",
          "Sport & Hobbies/Fishing",
          "Car/Fuel",
          "Gifts/Gifts",
          "Sport & Hobbies/Gym",
          "Sport & Hobbies/Gym - Supps",
          "Family & Personal/H",
          "Sport & Hobbies/Hiking/camping",
          "Travel/Japan trip",
          "Car/Maintenance",
          "Entertainment/Movies",
          "Sport & Hobbies/Mtb",
          "Travel/NZ",
          "Healthcare/Nutrition",
          "Travel/Overland Trip",
          "Car/Parking",
          "Car/Payments",
          "Entertainment/Physician",
          "Healthcare/Physician",
          "Beauty/Pilot",
          "Entertainment/Poker",
          "Other/Selling",
          "Healthcare/Sleep",
          "Travel/Snowboard trip 1",
          "Travel/Snowboard trip 2",
          "Entertainment/Sound",
          "Bills & Fees/Tax",
          "Town/Town",
          "Transport/Train",
          "Family & Personal/V",
          "Entertainment/Video game",
          "Food & Drink/Work lunch fund",
          "Travel/big trip",
          "Food & Drink/boxing",
          "Sport & Hobbies/boxing",
          "Sport & Hobbies/climbing",
          "Shopping/clothes",
          "Food & Drink/coffee",
          "Beauty/dentist",
          "Healthcare/dentist",
          "Food & Drink/fast food",
          "Beauty/haircut",
          "Education/irregular",
          "Beauty/irregular ",
          "Entertainment/irregular ",
          "Other/irregular ",
          "Shopping/irregular ",
          "Work/irregular ",
          "Bills & Fees/phone plan",
          "Healthcare/physio",
          "Food & Drink/restaurant/cafe",
          "Beauty/skin",
          "Food & Drink/snack",
          "Sport & Hobbies/snowboarding",
          "Education/subscriptions",
          "Entertainment/subscriptions",
          "Bills & Fees/subscriptions ",
          "Beauty",
          "Bills & Fees",
          "Car",
          "Education",
          "Entertainment",
          "Family & Personal",
          "Food & Drink",
          "Gifts",
          "Healthcare",
          "Other",
          "Shopping",
          "Sport & Hobbies",
          "Town",
          "Transport",
          "Travel",
          "Work"
         ],
         "labels": [
          "Caffeine",
          "Fishing",
          "Fuel",
          "Gifts",
          "Gym",
          "Gym - Supps",
          "H",
          "Hiking/camping",
          "Japan trip",
          "Maintenance",
          "Movies",
          "Mtb",
          "NZ",
          "Nutrition",
          "Overland Trip",
          "Parking",
          "Payments",
          "Physician",
          "Physician",
          "Pilot",
          "Poker",
          "Selling",
          "Sleep",
          "Snowboard trip 1",
          "Snowboard trip 2",
          "Sound",
          "Tax",
          "Town",
          "Train",
          "V",
          "Video game",
          "Work lunch fund",
          "big trip",
          "boxing",
          "boxing",
          "climbing",
          "clothes",
          "coffee",
          "dentist",
          "dentist",
          "fast food",
          "haircut",
          "irregular",
          "irregular ",
          "irregular ",
          "irregular ",
          "irregular ",
          "irregular ",
          "phone plan",
          "physio",
          "restaurant/cafe",
          "skin",
          "snack",
          "snowboarding",
          "subscriptions",
          "subscriptions",
          "subscriptions ",
          "Beauty",
          "Bills & Fees",
          "Car",
          "Education",
          "Entertainment",
          "Family & Personal",
          "Food & Drink",
          "Gifts",
          "Healthcare",
          "Other",
          "Shopping",
          "Sport & Hobbies",
          "Town",
          "Transport",
          "Travel",
          "Work"
         ],
         "name": "",
         "parents": [
          "Work",
          "Sport & Hobbies",
          "Car",
          "Gifts",
          "Sport & Hobbies",
          "Sport & Hobbies",
          "Family & Personal",
          "Sport & Hobbies",
          "Travel",
          "Car",
          "Entertainment",
          "Sport & Hobbies",
          "Travel",
          "Healthcare",
          "Travel",
          "Car",
          "Car",
          "Entertainment",
          "Healthcare",
          "Beauty",
          "Entertainment",
          "Other",
          "Healthcare",
          "Travel",
          "Travel",
          "Entertainment",
          "Bills & Fees",
          "Town",
          "Transport",
          "Family & Personal",
          "Entertainment",
          "Food & Drink",
          "Travel",
          "Food & Drink",
          "Sport & Hobbies",
          "Sport & Hobbies",
          "Shopping",
          "Food & Drink",
          "Beauty",
          "Healthcare",
          "Food & Drink",
          "Beauty",
          "Education",
          "Beauty",
          "Entertainment",
          "Other",
          "Shopping",
          "Work",
          "Bills & Fees",
          "Healthcare",
          "Food & Drink",
          "Beauty",
          "Food & Drink",
          "Sport & Hobbies",
          "Education",
          "Entertainment",
          "Bills & Fees",
          "",
          "",
          "",
          "",
          "",
          "",
          "",
          "",
          "",
          "",
          "",
          "",
          "",
          "",
          "",
          ""
         ],
         "textinfo": "label+value",
         "type": "treemap",
         "values": [
          54.98,
          143,
          3867.72,
          444.91,
          2047.9,
          721.44,
          3768.61,
          2110.57,
          6236.1,
          643.64,
          448.71,
          802,
          3868.3,
          762.72,
          862.42,
          93.8,
          2213.2,
          88,
          433.75,
          205,
          25,
          100,
          316.95,
          1134.07,
          815.42,
          149,
          374,
          2361.24,
          358.74,
          1172.43,
          322.18,
          224,
          440.67,
          13.7,
          449,
          2570.54,
          302,
          211.41,
          400,
          340,
          1590.23,
          622.35,
          1047.43,
          1508.25,
          368.3,
          135.3,
          221.78,
          19,
          490,
          805,
          1645.57,
          1205.84,
          1109.78,
          3287.07,
          29,
          1345.95,
          123.9,
          3941.44,
          987.9,
          6818.36,
          1076.43,
          2747.14,
          4941.04,
          4794.69,
          444.91,
          2658.42,
          235.3,
          523.78,
          12131.52,
          2361.24,
          358.74,
          13356.98,
          73.97999999999999
         ]
        }
       ],
       "layout": {
        "height": 900,
        "legend": {
         "tracegroupgap": 0
        },
        "template": {
         "data": {
          "bar": [
           {
            "error_x": {
             "color": "#2a3f5f"
            },
            "error_y": {
             "color": "#2a3f5f"
            },
            "marker": {
             "line": {
              "color": "#E5ECF6",
              "width": 0.5
             },
             "pattern": {
              "fillmode": "overlay",
              "size": 10,
              "solidity": 0.2
             }
            },
            "type": "bar"
           }
          ],
          "barpolar": [
           {
            "marker": {
             "line": {
              "color": "#E5ECF6",
              "width": 0.5
             },
             "pattern": {
              "fillmode": "overlay",
              "size": 10,
              "solidity": 0.2
             }
            },
            "type": "barpolar"
           }
          ],
          "carpet": [
           {
            "aaxis": {
             "endlinecolor": "#2a3f5f",
             "gridcolor": "white",
             "linecolor": "white",
             "minorgridcolor": "white",
             "startlinecolor": "#2a3f5f"
            },
            "baxis": {
             "endlinecolor": "#2a3f5f",
             "gridcolor": "white",
             "linecolor": "white",
             "minorgridcolor": "white",
             "startlinecolor": "#2a3f5f"
            },
            "type": "carpet"
           }
          ],
          "choropleth": [
           {
            "colorbar": {
             "outlinewidth": 0,
             "ticks": ""
            },
            "type": "choropleth"
           }
          ],
          "contour": [
           {
            "colorbar": {
             "outlinewidth": 0,
             "ticks": ""
            },
            "colorscale": [
             [
              0,
              "#0d0887"
             ],
             [
              0.1111111111111111,
              "#46039f"
             ],
             [
              0.2222222222222222,
              "#7201a8"
             ],
             [
              0.3333333333333333,
              "#9c179e"
             ],
             [
              0.4444444444444444,
              "#bd3786"
             ],
             [
              0.5555555555555556,
              "#d8576b"
             ],
             [
              0.6666666666666666,
              "#ed7953"
             ],
             [
              0.7777777777777778,
              "#fb9f3a"
             ],
             [
              0.8888888888888888,
              "#fdca26"
             ],
             [
              1,
              "#f0f921"
             ]
            ],
            "type": "contour"
           }
          ],
          "contourcarpet": [
           {
            "colorbar": {
             "outlinewidth": 0,
             "ticks": ""
            },
            "type": "contourcarpet"
           }
          ],
          "heatmap": [
           {
            "colorbar": {
             "outlinewidth": 0,
             "ticks": ""
            },
            "colorscale": [
             [
              0,
              "#0d0887"
             ],
             [
              0.1111111111111111,
              "#46039f"
             ],
             [
              0.2222222222222222,
              "#7201a8"
             ],
             [
              0.3333333333333333,
              "#9c179e"
             ],
             [
              0.4444444444444444,
              "#bd3786"
             ],
             [
              0.5555555555555556,
              "#d8576b"
             ],
             [
              0.6666666666666666,
              "#ed7953"
             ],
             [
              0.7777777777777778,
              "#fb9f3a"
             ],
             [
              0.8888888888888888,
              "#fdca26"
             ],
             [
              1,
              "#f0f921"
             ]
            ],
            "type": "heatmap"
           }
          ],
          "heatmapgl": [
           {
            "colorbar": {
             "outlinewidth": 0,
             "ticks": ""
            },
            "colorscale": [
             [
              0,
              "#0d0887"
             ],
             [
              0.1111111111111111,
              "#46039f"
             ],
             [
              0.2222222222222222,
              "#7201a8"
             ],
             [
              0.3333333333333333,
              "#9c179e"
             ],
             [
              0.4444444444444444,
              "#bd3786"
             ],
             [
              0.5555555555555556,
              "#d8576b"
             ],
             [
              0.6666666666666666,
              "#ed7953"
             ],
             [
              0.7777777777777778,
              "#fb9f3a"
             ],
             [
              0.8888888888888888,
              "#fdca26"
             ],
             [
              1,
              "#f0f921"
             ]
            ],
            "type": "heatmapgl"
           }
          ],
          "histogram": [
           {
            "marker": {
             "pattern": {
              "fillmode": "overlay",
              "size": 10,
              "solidity": 0.2
             }
            },
            "type": "histogram"
           }
          ],
          "histogram2d": [
           {
            "colorbar": {
             "outlinewidth": 0,
             "ticks": ""
            },
            "colorscale": [
             [
              0,
              "#0d0887"
             ],
             [
              0.1111111111111111,
              "#46039f"
             ],
             [
              0.2222222222222222,
              "#7201a8"
             ],
             [
              0.3333333333333333,
              "#9c179e"
             ],
             [
              0.4444444444444444,
              "#bd3786"
             ],
             [
              0.5555555555555556,
              "#d8576b"
             ],
             [
              0.6666666666666666,
              "#ed7953"
             ],
             [
              0.7777777777777778,
              "#fb9f3a"
             ],
             [
              0.8888888888888888,
              "#fdca26"
             ],
             [
              1,
              "#f0f921"
             ]
            ],
            "type": "histogram2d"
           }
          ],
          "histogram2dcontour": [
           {
            "colorbar": {
             "outlinewidth": 0,
             "ticks": ""
            },
            "colorscale": [
             [
              0,
              "#0d0887"
             ],
             [
              0.1111111111111111,
              "#46039f"
             ],
             [
              0.2222222222222222,
              "#7201a8"
             ],
             [
              0.3333333333333333,
              "#9c179e"
             ],
             [
              0.4444444444444444,
              "#bd3786"
             ],
             [
              0.5555555555555556,
              "#d8576b"
             ],
             [
              0.6666666666666666,
              "#ed7953"
             ],
             [
              0.7777777777777778,
              "#fb9f3a"
             ],
             [
              0.8888888888888888,
              "#fdca26"
             ],
             [
              1,
              "#f0f921"
             ]
            ],
            "type": "histogram2dcontour"
           }
          ],
          "mesh3d": [
           {
            "colorbar": {
             "outlinewidth": 0,
             "ticks": ""
            },
            "type": "mesh3d"
           }
          ],
          "parcoords": [
           {
            "line": {
             "colorbar": {
              "outlinewidth": 0,
              "ticks": ""
             }
            },
            "type": "parcoords"
           }
          ],
          "pie": [
           {
            "automargin": true,
            "type": "pie"
           }
          ],
          "scatter": [
           {
            "fillpattern": {
             "fillmode": "overlay",
             "size": 10,
             "solidity": 0.2
            },
            "type": "scatter"
           }
          ],
          "scatter3d": [
           {
            "line": {
             "colorbar": {
              "outlinewidth": 0,
              "ticks": ""
             }
            },
            "marker": {
             "colorbar": {
              "outlinewidth": 0,
              "ticks": ""
             }
            },
            "type": "scatter3d"
           }
          ],
          "scattercarpet": [
           {
            "marker": {
             "colorbar": {
              "outlinewidth": 0,
              "ticks": ""
             }
            },
            "type": "scattercarpet"
           }
          ],
          "scattergeo": [
           {
            "marker": {
             "colorbar": {
              "outlinewidth": 0,
              "ticks": ""
             }
            },
            "type": "scattergeo"
           }
          ],
          "scattergl": [
           {
            "marker": {
             "colorbar": {
              "outlinewidth": 0,
              "ticks": ""
             }
            },
            "type": "scattergl"
           }
          ],
          "scattermapbox": [
           {
            "marker": {
             "colorbar": {
              "outlinewidth": 0,
              "ticks": ""
             }
            },
            "type": "scattermapbox"
           }
          ],
          "scatterpolar": [
           {
            "marker": {
             "colorbar": {
              "outlinewidth": 0,
              "ticks": ""
             }
            },
            "type": "scatterpolar"
           }
          ],
          "scatterpolargl": [
           {
            "marker": {
             "colorbar": {
              "outlinewidth": 0,
              "ticks": ""
             }
            },
            "type": "scatterpolargl"
           }
          ],
          "scatterternary": [
           {
            "marker": {
             "colorbar": {
              "outlinewidth": 0,
              "ticks": ""
             }
            },
            "type": "scatterternary"
           }
          ],
          "surface": [
           {
            "colorbar": {
             "outlinewidth": 0,
             "ticks": ""
            },
            "colorscale": [
             [
              0,
              "#0d0887"
             ],
             [
              0.1111111111111111,
              "#46039f"
             ],
             [
              0.2222222222222222,
              "#7201a8"
             ],
             [
              0.3333333333333333,
              "#9c179e"
             ],
             [
              0.4444444444444444,
              "#bd3786"
             ],
             [
              0.5555555555555556,
              "#d8576b"
             ],
             [
              0.6666666666666666,
              "#ed7953"
             ],
             [
              0.7777777777777778,
              "#fb9f3a"
             ],
             [
              0.8888888888888888,
              "#fdca26"
             ],
             [
              1,
              "#f0f921"
             ]
            ],
            "type": "surface"
           }
          ],
          "table": [
           {
            "cells": {
             "fill": {
              "color": "#EBF0F8"
             },
             "line": {
              "color": "white"
             }
            },
            "header": {
             "fill": {
              "color": "#C8D4E3"
             },
             "line": {
              "color": "white"
             }
            },
            "type": "table"
           }
          ]
         },
         "layout": {
          "annotationdefaults": {
           "arrowcolor": "#2a3f5f",
           "arrowhead": 0,
           "arrowwidth": 1
          },
          "autotypenumbers": "strict",
          "coloraxis": {
           "colorbar": {
            "outlinewidth": 0,
            "ticks": ""
           }
          },
          "colorscale": {
           "diverging": [
            [
             0,
             "#8e0152"
            ],
            [
             0.1,
             "#c51b7d"
            ],
            [
             0.2,
             "#de77ae"
            ],
            [
             0.3,
             "#f1b6da"
            ],
            [
             0.4,
             "#fde0ef"
            ],
            [
             0.5,
             "#f7f7f7"
            ],
            [
             0.6,
             "#e6f5d0"
            ],
            [
             0.7,
             "#b8e186"
            ],
            [
             0.8,
             "#7fbc41"
            ],
            [
             0.9,
             "#4d9221"
            ],
            [
             1,
             "#276419"
            ]
           ],
           "sequential": [
            [
             0,
             "#0d0887"
            ],
            [
             0.1111111111111111,
             "#46039f"
            ],
            [
             0.2222222222222222,
             "#7201a8"
            ],
            [
             0.3333333333333333,
             "#9c179e"
            ],
            [
             0.4444444444444444,
             "#bd3786"
            ],
            [
             0.5555555555555556,
             "#d8576b"
            ],
            [
             0.6666666666666666,
             "#ed7953"
            ],
            [
             0.7777777777777778,
             "#fb9f3a"
            ],
            [
             0.8888888888888888,
             "#fdca26"
            ],
            [
             1,
             "#f0f921"
            ]
           ],
           "sequentialminus": [
            [
             0,
             "#0d0887"
            ],
            [
             0.1111111111111111,
             "#46039f"
            ],
            [
             0.2222222222222222,
             "#7201a8"
            ],
            [
             0.3333333333333333,
             "#9c179e"
            ],
            [
             0.4444444444444444,
             "#bd3786"
            ],
            [
             0.5555555555555556,
             "#d8576b"
            ],
            [
             0.6666666666666666,
             "#ed7953"
            ],
            [
             0.7777777777777778,
             "#fb9f3a"
            ],
            [
             0.8888888888888888,
             "#fdca26"
            ],
            [
             1,
             "#f0f921"
            ]
           ]
          },
          "colorway": [
           "#636efa",
           "#EF553B",
           "#00cc96",
           "#ab63fa",
           "#FFA15A",
           "#19d3f3",
           "#FF6692",
           "#B6E880",
           "#FF97FF",
           "#FECB52"
          ],
          "font": {
           "color": "#2a3f5f"
          },
          "geo": {
           "bgcolor": "white",
           "lakecolor": "white",
           "landcolor": "#E5ECF6",
           "showlakes": true,
           "showland": true,
           "subunitcolor": "white"
          },
          "hoverlabel": {
           "align": "left"
          },
          "hovermode": "closest",
          "mapbox": {
           "style": "light"
          },
          "paper_bgcolor": "white",
          "plot_bgcolor": "#E5ECF6",
          "polar": {
           "angularaxis": {
            "gridcolor": "white",
            "linecolor": "white",
            "ticks": ""
           },
           "bgcolor": "#E5ECF6",
           "radialaxis": {
            "gridcolor": "white",
            "linecolor": "white",
            "ticks": ""
           }
          },
          "scene": {
           "xaxis": {
            "backgroundcolor": "#E5ECF6",
            "gridcolor": "white",
            "gridwidth": 2,
            "linecolor": "white",
            "showbackground": true,
            "ticks": "",
            "zerolinecolor": "white"
           },
           "yaxis": {
            "backgroundcolor": "#E5ECF6",
            "gridcolor": "white",
            "gridwidth": 2,
            "linecolor": "white",
            "showbackground": true,
            "ticks": "",
            "zerolinecolor": "white"
           },
           "zaxis": {
            "backgroundcolor": "#E5ECF6",
            "gridcolor": "white",
            "gridwidth": 2,
            "linecolor": "white",
            "showbackground": true,
            "ticks": "",
            "zerolinecolor": "white"
           }
          },
          "shapedefaults": {
           "line": {
            "color": "#2a3f5f"
           }
          },
          "ternary": {
           "aaxis": {
            "gridcolor": "white",
            "linecolor": "white",
            "ticks": ""
           },
           "baxis": {
            "gridcolor": "white",
            "linecolor": "white",
            "ticks": ""
           },
           "bgcolor": "#E5ECF6",
           "caxis": {
            "gridcolor": "white",
            "linecolor": "white",
            "ticks": ""
           }
          },
          "title": {
           "x": 0.05
          },
          "xaxis": {
           "automargin": true,
           "gridcolor": "white",
           "linecolor": "white",
           "ticks": "",
           "title": {
            "standoff": 15
           },
           "zerolinecolor": "white",
           "zerolinewidth": 2
          },
          "yaxis": {
           "automargin": true,
           "gridcolor": "white",
           "linecolor": "white",
           "ticks": "",
           "title": {
            "standoff": 15
           },
           "zerolinecolor": "white",
           "zerolinewidth": 2
          }
         }
        },
        "title": {
         "text": "Spending by Category and Subcategory"
        },
        "width": 1200
       }
      },
      "text/html": [
       "<div>                            <div id=\"bdd2520c-7827-4228-a8ee-2ac039fae79a\" class=\"plotly-graph-div\" style=\"height:900px; width:1200px;\"></div>            <script type=\"text/javascript\">                require([\"plotly\"], function(Plotly) {                    window.PLOTLYENV=window.PLOTLYENV || {};                                    if (document.getElementById(\"bdd2520c-7827-4228-a8ee-2ac039fae79a\")) {                    Plotly.newPlot(                        \"bdd2520c-7827-4228-a8ee-2ac039fae79a\",                        [{\"branchvalues\":\"total\",\"domain\":{\"x\":[0.0,1.0],\"y\":[0.0,1.0]},\"hovertemplate\":\"labels=%{label}\\u003cbr\\u003eTotal=%{value}\\u003cbr\\u003eparent=%{parent}\\u003cbr\\u003eid=%{id}\\u003cextra\\u003e\\u003c\\u002fextra\\u003e\",\"ids\":[\"Work\\u002fCaffeine\",\"Sport & Hobbies\\u002fFishing\",\"Car\\u002fFuel\",\"Gifts\\u002fGifts\",\"Sport & Hobbies\\u002fGym\",\"Sport & Hobbies\\u002fGym - Supps\",\"Family & Personal\\u002fH\",\"Sport & Hobbies\\u002fHiking\\u002fcamping\",\"Travel\\u002fJapan trip\",\"Car\\u002fMaintenance\",\"Entertainment\\u002fMovies\",\"Sport & Hobbies\\u002fMtb\",\"Travel\\u002fNZ\",\"Healthcare\\u002fNutrition\",\"Travel\\u002fOverland Trip\",\"Car\\u002fParking\",\"Car\\u002fPayments\",\"Entertainment\\u002fPhysician\",\"Healthcare\\u002fPhysician\",\"Beauty\\u002fPilot\",\"Entertainment\\u002fPoker\",\"Other\\u002fSelling\",\"Healthcare\\u002fSleep\",\"Travel\\u002fSnowboard trip 1\",\"Travel\\u002fSnowboard trip 2\",\"Entertainment\\u002fSound\",\"Bills & Fees\\u002fTax\",\"Town\\u002fTown\",\"Transport\\u002fTrain\",\"Family & Personal\\u002fV\",\"Entertainment\\u002fVideo game\",\"Food & Drink\\u002fWork lunch fund\",\"Travel\\u002fbig trip\",\"Food & Drink\\u002fboxing\",\"Sport & Hobbies\\u002fboxing\",\"Sport & Hobbies\\u002fclimbing\",\"Shopping\\u002fclothes\",\"Food & Drink\\u002fcoffee\",\"Beauty\\u002fdentist\",\"Healthcare\\u002fdentist\",\"Food & Drink\\u002ffast food\",\"Beauty\\u002fhaircut\",\"Education\\u002firregular\",\"Beauty\\u002firregular \",\"Entertainment\\u002firregular \",\"Other\\u002firregular \",\"Shopping\\u002firregular \",\"Work\\u002firregular \",\"Bills & Fees\\u002fphone plan\",\"Healthcare\\u002fphysio\",\"Food & Drink\\u002frestaurant\\u002fcafe\",\"Beauty\\u002fskin\",\"Food & Drink\\u002fsnack\",\"Sport & Hobbies\\u002fsnowboarding\",\"Education\\u002fsubscriptions\",\"Entertainment\\u002fsubscriptions\",\"Bills & Fees\\u002fsubscriptions \",\"Beauty\",\"Bills & Fees\",\"Car\",\"Education\",\"Entertainment\",\"Family & Personal\",\"Food & Drink\",\"Gifts\",\"Healthcare\",\"Other\",\"Shopping\",\"Sport & Hobbies\",\"Town\",\"Transport\",\"Travel\",\"Work\"],\"labels\":[\"Caffeine\",\"Fishing\",\"Fuel\",\"Gifts\",\"Gym\",\"Gym - Supps\",\"H\",\"Hiking\\u002fcamping\",\"Japan trip\",\"Maintenance\",\"Movies\",\"Mtb\",\"NZ\",\"Nutrition\",\"Overland Trip\",\"Parking\",\"Payments\",\"Physician\",\"Physician\",\"Pilot\",\"Poker\",\"Selling\",\"Sleep\",\"Snowboard trip 1\",\"Snowboard trip 2\",\"Sound\",\"Tax\",\"Town\",\"Train\",\"V\",\"Video game\",\"Work lunch fund\",\"big trip\",\"boxing\",\"boxing\",\"climbing\",\"clothes\",\"coffee\",\"dentist\",\"dentist\",\"fast food\",\"haircut\",\"irregular\",\"irregular \",\"irregular \",\"irregular \",\"irregular \",\"irregular \",\"phone plan\",\"physio\",\"restaurant\\u002fcafe\",\"skin\",\"snack\",\"snowboarding\",\"subscriptions\",\"subscriptions\",\"subscriptions \",\"Beauty\",\"Bills & Fees\",\"Car\",\"Education\",\"Entertainment\",\"Family & Personal\",\"Food & Drink\",\"Gifts\",\"Healthcare\",\"Other\",\"Shopping\",\"Sport & Hobbies\",\"Town\",\"Transport\",\"Travel\",\"Work\"],\"name\":\"\",\"parents\":[\"Work\",\"Sport & Hobbies\",\"Car\",\"Gifts\",\"Sport & Hobbies\",\"Sport & Hobbies\",\"Family & Personal\",\"Sport & Hobbies\",\"Travel\",\"Car\",\"Entertainment\",\"Sport & Hobbies\",\"Travel\",\"Healthcare\",\"Travel\",\"Car\",\"Car\",\"Entertainment\",\"Healthcare\",\"Beauty\",\"Entertainment\",\"Other\",\"Healthcare\",\"Travel\",\"Travel\",\"Entertainment\",\"Bills & Fees\",\"Town\",\"Transport\",\"Family & Personal\",\"Entertainment\",\"Food & Drink\",\"Travel\",\"Food & Drink\",\"Sport & Hobbies\",\"Sport & Hobbies\",\"Shopping\",\"Food & Drink\",\"Beauty\",\"Healthcare\",\"Food & Drink\",\"Beauty\",\"Education\",\"Beauty\",\"Entertainment\",\"Other\",\"Shopping\",\"Work\",\"Bills & Fees\",\"Healthcare\",\"Food & Drink\",\"Beauty\",\"Food & Drink\",\"Sport & Hobbies\",\"Education\",\"Entertainment\",\"Bills & Fees\",\"\",\"\",\"\",\"\",\"\",\"\",\"\",\"\",\"\",\"\",\"\",\"\",\"\",\"\",\"\",\"\"],\"values\":[54.98,143.0,3867.72,444.91,2047.9,721.44,3768.61,2110.57,6236.1,643.64,448.71,802.0,3868.3,762.72,862.42,93.8,2213.2,88.0,433.75,205.0,25.0,100.0,316.95,1134.07,815.42,149.0,374.0,2361.24,358.74,1172.43,322.18,224.0,440.67,13.7,449.0,2570.54,302.0,211.41,400.0,340.0,1590.23,622.35,1047.43,1508.25,368.3,135.3,221.78,19.0,490.0,805.0,1645.57,1205.84,1109.78,3287.07,29.0,1345.95,123.9,3941.44,987.9,6818.36,1076.43,2747.14,4941.04,4794.69,444.91,2658.42,235.3,523.78,12131.52,2361.24,358.74,13356.98,73.97999999999999],\"type\":\"treemap\",\"textinfo\":\"label+value\"}],                        {\"template\":{\"data\":{\"histogram2dcontour\":[{\"type\":\"histogram2dcontour\",\"colorbar\":{\"outlinewidth\":0,\"ticks\":\"\"},\"colorscale\":[[0.0,\"#0d0887\"],[0.1111111111111111,\"#46039f\"],[0.2222222222222222,\"#7201a8\"],[0.3333333333333333,\"#9c179e\"],[0.4444444444444444,\"#bd3786\"],[0.5555555555555556,\"#d8576b\"],[0.6666666666666666,\"#ed7953\"],[0.7777777777777778,\"#fb9f3a\"],[0.8888888888888888,\"#fdca26\"],[1.0,\"#f0f921\"]]}],\"choropleth\":[{\"type\":\"choropleth\",\"colorbar\":{\"outlinewidth\":0,\"ticks\":\"\"}}],\"histogram2d\":[{\"type\":\"histogram2d\",\"colorbar\":{\"outlinewidth\":0,\"ticks\":\"\"},\"colorscale\":[[0.0,\"#0d0887\"],[0.1111111111111111,\"#46039f\"],[0.2222222222222222,\"#7201a8\"],[0.3333333333333333,\"#9c179e\"],[0.4444444444444444,\"#bd3786\"],[0.5555555555555556,\"#d8576b\"],[0.6666666666666666,\"#ed7953\"],[0.7777777777777778,\"#fb9f3a\"],[0.8888888888888888,\"#fdca26\"],[1.0,\"#f0f921\"]]}],\"heatmap\":[{\"type\":\"heatmap\",\"colorbar\":{\"outlinewidth\":0,\"ticks\":\"\"},\"colorscale\":[[0.0,\"#0d0887\"],[0.1111111111111111,\"#46039f\"],[0.2222222222222222,\"#7201a8\"],[0.3333333333333333,\"#9c179e\"],[0.4444444444444444,\"#bd3786\"],[0.5555555555555556,\"#d8576b\"],[0.6666666666666666,\"#ed7953\"],[0.7777777777777778,\"#fb9f3a\"],[0.8888888888888888,\"#fdca26\"],[1.0,\"#f0f921\"]]}],\"heatmapgl\":[{\"type\":\"heatmapgl\",\"colorbar\":{\"outlinewidth\":0,\"ticks\":\"\"},\"colorscale\":[[0.0,\"#0d0887\"],[0.1111111111111111,\"#46039f\"],[0.2222222222222222,\"#7201a8\"],[0.3333333333333333,\"#9c179e\"],[0.4444444444444444,\"#bd3786\"],[0.5555555555555556,\"#d8576b\"],[0.6666666666666666,\"#ed7953\"],[0.7777777777777778,\"#fb9f3a\"],[0.8888888888888888,\"#fdca26\"],[1.0,\"#f0f921\"]]}],\"contourcarpet\":[{\"type\":\"contourcarpet\",\"colorbar\":{\"outlinewidth\":0,\"ticks\":\"\"}}],\"contour\":[{\"type\":\"contour\",\"colorbar\":{\"outlinewidth\":0,\"ticks\":\"\"},\"colorscale\":[[0.0,\"#0d0887\"],[0.1111111111111111,\"#46039f\"],[0.2222222222222222,\"#7201a8\"],[0.3333333333333333,\"#9c179e\"],[0.4444444444444444,\"#bd3786\"],[0.5555555555555556,\"#d8576b\"],[0.6666666666666666,\"#ed7953\"],[0.7777777777777778,\"#fb9f3a\"],[0.8888888888888888,\"#fdca26\"],[1.0,\"#f0f921\"]]}],\"surface\":[{\"type\":\"surface\",\"colorbar\":{\"outlinewidth\":0,\"ticks\":\"\"},\"colorscale\":[[0.0,\"#0d0887\"],[0.1111111111111111,\"#46039f\"],[0.2222222222222222,\"#7201a8\"],[0.3333333333333333,\"#9c179e\"],[0.4444444444444444,\"#bd3786\"],[0.5555555555555556,\"#d8576b\"],[0.6666666666666666,\"#ed7953\"],[0.7777777777777778,\"#fb9f3a\"],[0.8888888888888888,\"#fdca26\"],[1.0,\"#f0f921\"]]}],\"mesh3d\":[{\"type\":\"mesh3d\",\"colorbar\":{\"outlinewidth\":0,\"ticks\":\"\"}}],\"scatter\":[{\"fillpattern\":{\"fillmode\":\"overlay\",\"size\":10,\"solidity\":0.2},\"type\":\"scatter\"}],\"parcoords\":[{\"type\":\"parcoords\",\"line\":{\"colorbar\":{\"outlinewidth\":0,\"ticks\":\"\"}}}],\"scatterpolargl\":[{\"type\":\"scatterpolargl\",\"marker\":{\"colorbar\":{\"outlinewidth\":0,\"ticks\":\"\"}}}],\"bar\":[{\"error_x\":{\"color\":\"#2a3f5f\"},\"error_y\":{\"color\":\"#2a3f5f\"},\"marker\":{\"line\":{\"color\":\"#E5ECF6\",\"width\":0.5},\"pattern\":{\"fillmode\":\"overlay\",\"size\":10,\"solidity\":0.2}},\"type\":\"bar\"}],\"scattergeo\":[{\"type\":\"scattergeo\",\"marker\":{\"colorbar\":{\"outlinewidth\":0,\"ticks\":\"\"}}}],\"scatterpolar\":[{\"type\":\"scatterpolar\",\"marker\":{\"colorbar\":{\"outlinewidth\":0,\"ticks\":\"\"}}}],\"histogram\":[{\"marker\":{\"pattern\":{\"fillmode\":\"overlay\",\"size\":10,\"solidity\":0.2}},\"type\":\"histogram\"}],\"scattergl\":[{\"type\":\"scattergl\",\"marker\":{\"colorbar\":{\"outlinewidth\":0,\"ticks\":\"\"}}}],\"scatter3d\":[{\"type\":\"scatter3d\",\"line\":{\"colorbar\":{\"outlinewidth\":0,\"ticks\":\"\"}},\"marker\":{\"colorbar\":{\"outlinewidth\":0,\"ticks\":\"\"}}}],\"scattermapbox\":[{\"type\":\"scattermapbox\",\"marker\":{\"colorbar\":{\"outlinewidth\":0,\"ticks\":\"\"}}}],\"scatterternary\":[{\"type\":\"scatterternary\",\"marker\":{\"colorbar\":{\"outlinewidth\":0,\"ticks\":\"\"}}}],\"scattercarpet\":[{\"type\":\"scattercarpet\",\"marker\":{\"colorbar\":{\"outlinewidth\":0,\"ticks\":\"\"}}}],\"carpet\":[{\"aaxis\":{\"endlinecolor\":\"#2a3f5f\",\"gridcolor\":\"white\",\"linecolor\":\"white\",\"minorgridcolor\":\"white\",\"startlinecolor\":\"#2a3f5f\"},\"baxis\":{\"endlinecolor\":\"#2a3f5f\",\"gridcolor\":\"white\",\"linecolor\":\"white\",\"minorgridcolor\":\"white\",\"startlinecolor\":\"#2a3f5f\"},\"type\":\"carpet\"}],\"table\":[{\"cells\":{\"fill\":{\"color\":\"#EBF0F8\"},\"line\":{\"color\":\"white\"}},\"header\":{\"fill\":{\"color\":\"#C8D4E3\"},\"line\":{\"color\":\"white\"}},\"type\":\"table\"}],\"barpolar\":[{\"marker\":{\"line\":{\"color\":\"#E5ECF6\",\"width\":0.5},\"pattern\":{\"fillmode\":\"overlay\",\"size\":10,\"solidity\":0.2}},\"type\":\"barpolar\"}],\"pie\":[{\"automargin\":true,\"type\":\"pie\"}]},\"layout\":{\"autotypenumbers\":\"strict\",\"colorway\":[\"#636efa\",\"#EF553B\",\"#00cc96\",\"#ab63fa\",\"#FFA15A\",\"#19d3f3\",\"#FF6692\",\"#B6E880\",\"#FF97FF\",\"#FECB52\"],\"font\":{\"color\":\"#2a3f5f\"},\"hovermode\":\"closest\",\"hoverlabel\":{\"align\":\"left\"},\"paper_bgcolor\":\"white\",\"plot_bgcolor\":\"#E5ECF6\",\"polar\":{\"bgcolor\":\"#E5ECF6\",\"angularaxis\":{\"gridcolor\":\"white\",\"linecolor\":\"white\",\"ticks\":\"\"},\"radialaxis\":{\"gridcolor\":\"white\",\"linecolor\":\"white\",\"ticks\":\"\"}},\"ternary\":{\"bgcolor\":\"#E5ECF6\",\"aaxis\":{\"gridcolor\":\"white\",\"linecolor\":\"white\",\"ticks\":\"\"},\"baxis\":{\"gridcolor\":\"white\",\"linecolor\":\"white\",\"ticks\":\"\"},\"caxis\":{\"gridcolor\":\"white\",\"linecolor\":\"white\",\"ticks\":\"\"}},\"coloraxis\":{\"colorbar\":{\"outlinewidth\":0,\"ticks\":\"\"}},\"colorscale\":{\"sequential\":[[0.0,\"#0d0887\"],[0.1111111111111111,\"#46039f\"],[0.2222222222222222,\"#7201a8\"],[0.3333333333333333,\"#9c179e\"],[0.4444444444444444,\"#bd3786\"],[0.5555555555555556,\"#d8576b\"],[0.6666666666666666,\"#ed7953\"],[0.7777777777777778,\"#fb9f3a\"],[0.8888888888888888,\"#fdca26\"],[1.0,\"#f0f921\"]],\"sequentialminus\":[[0.0,\"#0d0887\"],[0.1111111111111111,\"#46039f\"],[0.2222222222222222,\"#7201a8\"],[0.3333333333333333,\"#9c179e\"],[0.4444444444444444,\"#bd3786\"],[0.5555555555555556,\"#d8576b\"],[0.6666666666666666,\"#ed7953\"],[0.7777777777777778,\"#fb9f3a\"],[0.8888888888888888,\"#fdca26\"],[1.0,\"#f0f921\"]],\"diverging\":[[0,\"#8e0152\"],[0.1,\"#c51b7d\"],[0.2,\"#de77ae\"],[0.3,\"#f1b6da\"],[0.4,\"#fde0ef\"],[0.5,\"#f7f7f7\"],[0.6,\"#e6f5d0\"],[0.7,\"#b8e186\"],[0.8,\"#7fbc41\"],[0.9,\"#4d9221\"],[1,\"#276419\"]]},\"xaxis\":{\"gridcolor\":\"white\",\"linecolor\":\"white\",\"ticks\":\"\",\"title\":{\"standoff\":15},\"zerolinecolor\":\"white\",\"automargin\":true,\"zerolinewidth\":2},\"yaxis\":{\"gridcolor\":\"white\",\"linecolor\":\"white\",\"ticks\":\"\",\"title\":{\"standoff\":15},\"zerolinecolor\":\"white\",\"automargin\":true,\"zerolinewidth\":2},\"scene\":{\"xaxis\":{\"backgroundcolor\":\"#E5ECF6\",\"gridcolor\":\"white\",\"linecolor\":\"white\",\"showbackground\":true,\"ticks\":\"\",\"zerolinecolor\":\"white\",\"gridwidth\":2},\"yaxis\":{\"backgroundcolor\":\"#E5ECF6\",\"gridcolor\":\"white\",\"linecolor\":\"white\",\"showbackground\":true,\"ticks\":\"\",\"zerolinecolor\":\"white\",\"gridwidth\":2},\"zaxis\":{\"backgroundcolor\":\"#E5ECF6\",\"gridcolor\":\"white\",\"linecolor\":\"white\",\"showbackground\":true,\"ticks\":\"\",\"zerolinecolor\":\"white\",\"gridwidth\":2}},\"shapedefaults\":{\"line\":{\"color\":\"#2a3f5f\"}},\"annotationdefaults\":{\"arrowcolor\":\"#2a3f5f\",\"arrowhead\":0,\"arrowwidth\":1},\"geo\":{\"bgcolor\":\"white\",\"landcolor\":\"#E5ECF6\",\"subunitcolor\":\"white\",\"showland\":true,\"showlakes\":true,\"lakecolor\":\"white\"},\"title\":{\"x\":0.05},\"mapbox\":{\"style\":\"light\"}}},\"legend\":{\"tracegroupgap\":0},\"title\":{\"text\":\"Spending by Category and Subcategory\"},\"width\":1200,\"height\":900},                        {\"responsive\": true}                    ).then(function(){\n",
       "                            \n",
       "var gd = document.getElementById('bdd2520c-7827-4228-a8ee-2ac039fae79a');\n",
       "var x = new MutationObserver(function (mutations, observer) {{\n",
       "        var display = window.getComputedStyle(gd).display;\n",
       "        if (!display || display === 'none') {{\n",
       "            console.log([gd, 'removed!']);\n",
       "            Plotly.purge(gd);\n",
       "            observer.disconnect();\n",
       "        }}\n",
       "}});\n",
       "\n",
       "// Listen for the removal of the full notebook cells\n",
       "var notebookContainer = gd.closest('#notebook-container');\n",
       "if (notebookContainer) {{\n",
       "    x.observe(notebookContainer, {childList: true});\n",
       "}}\n",
       "\n",
       "// Listen for the clearing of the current output cell\n",
       "var outputEl = gd.closest('.output');\n",
       "if (outputEl) {{\n",
       "    x.observe(outputEl, {childList: true});\n",
       "}}\n",
       "\n",
       "                        })                };                });            </script>        </div>"
      ]
     },
     "metadata": {},
     "output_type": "display_data"
    }
   ],
   "source": [
    "import plotly.express as px\n",
    "\n",
    "fig = px.treemap(subcatbreak, path=['Category', 'Subcategory'], values='Total', \n",
    "                 title='Spending by Category and Subcategory')\n",
    "fig.update_traces(textinfo='label+value')\n",
    "fig.update_layout(width=1200, height=900)\n",
    "#fig.write_html('first_figure.html', auto_open=True)\n",
    "fig.show()"
   ]
  },
  {
   "cell_type": "code",
   "execution_count": 1,
   "id": "3531057a",
   "metadata": {},
   "outputs": [],
   "source": [
    "# Pivot data for hierarchical bar chart\n",
    "#pivot_scB = subcatbreak.pivot(index='Category', columns='Subcategory', values='Total')\n",
    "\n",
    "# Plot hierarchical bar chart\n",
    "#pivot_scB.plot(kind='bar', stacked=True)\n",
    "\n",
    "#plt.title('Spending by Category and Subcategory')\n",
    "#plt.xlabel('Category')\n",
    "#plt.ylabel('Amount')\n",
    "#plt.legend(title='Subcategory')\n",
    "#plt.show()\n"
   ]
  },
  {
   "cell_type": "code",
   "execution_count": null,
   "id": "baa542dd",
   "metadata": {},
   "outputs": [],
   "source": []
  },
  {
   "cell_type": "code",
   "execution_count": 56,
   "id": "824af9b2",
   "metadata": {},
   "outputs": [],
   "source": [
    "# Close the connection\n",
    "#if 'connection' in locals():\n",
    "conn.close()"
   ]
  },
  {
   "cell_type": "code",
   "execution_count": null,
   "id": "eb45e970",
   "metadata": {},
   "outputs": [],
   "source": []
  }
 ],
 "metadata": {
  "kernelspec": {
   "display_name": "Python 3 (ipykernel)",
   "language": "python",
   "name": "python3"
  },
  "language_info": {
   "codemirror_mode": {
    "name": "ipython",
    "version": 3
   },
   "file_extension": ".py",
   "mimetype": "text/x-python",
   "name": "python",
   "nbconvert_exporter": "python",
   "pygments_lexer": "ipython3",
   "version": "3.9.7"
  }
 },
 "nbformat": 4,
 "nbformat_minor": 5
}
